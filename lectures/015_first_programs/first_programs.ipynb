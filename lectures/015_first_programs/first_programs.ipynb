{
 "cells": [
  {
   "cell_type": "markdown",
   "metadata": {
    "slideshow": {
     "slide_type": "slide"
    }
   },
   "source": [
    "# Basics of Programming\n",
    "## Some full examples to get started"
   ]
  },
  {
   "cell_type": "markdown",
   "metadata": {
    "slideshow": {
     "slide_type": "slide"
    }
   },
   "source": [
    "## The building blocks of a program are surprisingly small\n",
    "* Data: numbers, characters, strings, etc.\n",
    "* Functions and Operators: `+, -, abs(), sqrt(), print(), ...`\n",
    "* Conditionals: `if/else` statements\n",
    "* Loops: `for/while/...` loops which allow you to work with multiple items\n",
    "* Data structures: list of items, matrix of items, lookup dictionaries,..."
   ]
  },
  {
   "cell_type": "markdown",
   "metadata": {
    "slideshow": {
     "slide_type": "slide"
    }
   },
   "source": [
    "## Let's download a file a explore it\n",
    "### Then run it in VS Code"
   ]
  },
  {
   "cell_type": "code",
   "execution_count": 1,
   "metadata": {
    "slideshow": {
     "slide_type": "fragment"
    }
   },
   "outputs": [],
   "source": [
    "src_url = \"https://raw.githubusercontent.com/washingtonpost/data-game-of-thrones-deaths/master/game-of-thrones-deaths-data.csv\"\n",
    "data_file_location = \"../../datasets/deaths-in-gameofthrones/game-of-thrones-deaths-data.csv\""
   ]
  },
  {
   "cell_type": "code",
   "execution_count": 2,
   "metadata": {
    "slideshow": {
     "slide_type": "fragment"
    }
   },
   "outputs": [
    {
     "name": "stdout",
     "output_type": "stream",
     "text": [
      "Wall time: 0 ns\n",
      "File already exists, not downloading\n"
     ]
    }
   ],
   "source": [
    "%time\n",
    "import requests\n",
    "import os.path\n",
    "\n",
    "#This is just boiler plate code, not for instruction...ignore meeee\n",
    "if not os.path.exists(data_file_location):\n",
    "  print(\"Downloading...\")\n",
    "  req = requests.get(src_url, allow_redirects=True).content\n",
    "  open(data_file_location, 'wb').write(req)\n",
    "  print(\"Finished downloading\")\n",
    "else:\n",
    "  print(\"File already exists, not downloading\")\n"
   ]
  },
  {
   "cell_type": "markdown",
   "metadata": {
    "slideshow": {
     "slide_type": "slide"
    }
   },
   "source": [
    "### Sit back and get your first look at Python\n",
    "The point of this lecture is just to show you what Python looks like. Meet Python features for the first time. We will get to know their names and characteristics throughout the rest of the semester.\n",
    "\n",
    "BTW, does everyone know Game of Thrones?"
   ]
  },
  {
   "cell_type": "markdown",
   "metadata": {
    "slideshow": {
     "slide_type": "slide"
    }
   },
   "source": [
    "### Open the file and look at the contents\n",
    "Let's write very simple programs to operate on this file\n",
    "1. Count the number of lines in the file\n",
    "2. How many people did Arya kill?\n",
    "3. Find the names of everyone Jamie killed.\n",
    "4. How many people were killed in total?"
   ]
  },
  {
   "cell_type": "markdown",
   "metadata": {
    "slideshow": {
     "slide_type": "slide"
    }
   },
   "source": [
    "## Simplified example: count lines in a file\n",
    "**Pseudo code** (not real code)\n",
    "1. Set variable `counter` equal to zero\n",
    "2. Keep going through lines of the file  \n",
    "    2a. For every new line, add 1 to `counter`\n",
    "3. When done with lines in file, show `counter` "
   ]
  },
  {
   "cell_type": "markdown",
   "metadata": {
    "slideshow": {
     "slide_type": "slide"
    }
   },
   "source": [
    "## Real python: count lines in a file"
   ]
  },
  {
   "cell_type": "code",
   "execution_count": 3,
   "metadata": {
    "slideshow": {
     "slide_type": "fragment"
    }
   },
   "outputs": [
    {
     "name": "stdout",
     "output_type": "stream",
     "text": [
      "6888\n"
     ]
    }
   ],
   "source": [
    "counter = 0\n",
    "file = open(data_file_location, 'r', encoding='utf8')\n",
    "\n",
    "for line in file:\n",
    "  counter = counter + 1\n",
    "\n",
    "file.close()\n",
    "print(counter)\n"
   ]
  },
  {
   "cell_type": "markdown",
   "metadata": {
    "slideshow": {
     "slide_type": "fragment"
    }
   },
   "source": [
    "* Use with open(file_name) as file\n",
    "* Notice the indentation\n",
    "* Notice that we have to close the file (real-world python has a solution for this)\n",
    "* Notice the loop\n",
    "* Find function calls\n",
    "* Find variables\n",
    "* What are types and scopes of variables?"
   ]
  },
  {
   "cell_type": "markdown",
   "metadata": {
    "slideshow": {
     "slide_type": "slide"
    }
   },
   "source": [
    "## Interesting dataset, let's see what it looks like"
   ]
  },
  {
   "cell_type": "code",
   "execution_count": 4,
   "metadata": {
    "slideshow": {
     "slide_type": "fragment"
    }
   },
   "outputs": [
    {
     "data": {
      "text/plain": [
       "['order,season,episode,character_killed,killer,method,method_cat,reason,location,allegiance,importance\\n',\n",
       " '1,1,1,Waymar Royce,White Walker,Ice sword,Blade,Unknown,Beyond the Wall,\"House Royce, Night’s Watch\",2\\n',\n",
       " '2,1,1,Gared,White Walker,Ice sword,Blade,Unknown,Beyond the Wall,Night’s Watch,2\\n',\n",
       " '3,1,1,Will,Ned Stark,Sword (Ice),Blade,Deserting the Night’s Watch,Winterfell,Night’s Watch,2\\n',\n",
       " '4,1,1,Stag,Direwolf,Direwolf teeth,Animal,Unknown,Winterfell,None,1\\n']"
      ]
     },
     "execution_count": 4,
     "metadata": {},
     "output_type": "execute_result"
    }
   ],
   "source": [
    "list(open(data_file_location, 'r', encoding='utf8'))[:5]"
   ]
  },
  {
   "cell_type": "code",
   "execution_count": 8,
   "metadata": {
    "slideshow": {
     "slide_type": "fragment"
    }
   },
   "outputs": [
    {
     "data": {
      "text/html": [
       "<div>\n",
       "<style scoped>\n",
       "    .dataframe tbody tr th:only-of-type {\n",
       "        vertical-align: middle;\n",
       "    }\n",
       "\n",
       "    .dataframe tbody tr th {\n",
       "        vertical-align: top;\n",
       "    }\n",
       "\n",
       "    .dataframe thead th {\n",
       "        text-align: right;\n",
       "    }\n",
       "</style>\n",
       "<table border=\"1\" class=\"dataframe\">\n",
       "  <thead>\n",
       "    <tr style=\"text-align: right;\">\n",
       "      <th></th>\n",
       "      <th>order</th>\n",
       "      <th>season</th>\n",
       "      <th>episode</th>\n",
       "      <th>character_killed</th>\n",
       "      <th>killer</th>\n",
       "      <th>method</th>\n",
       "      <th>method_cat</th>\n",
       "      <th>reason</th>\n",
       "      <th>location</th>\n",
       "      <th>allegiance</th>\n",
       "      <th>importance</th>\n",
       "    </tr>\n",
       "  </thead>\n",
       "  <tbody>\n",
       "    <tr>\n",
       "      <td>0</td>\n",
       "      <td>1</td>\n",
       "      <td>1</td>\n",
       "      <td>1</td>\n",
       "      <td>Waymar Royce</td>\n",
       "      <td>White Walker</td>\n",
       "      <td>Ice sword</td>\n",
       "      <td>Blade</td>\n",
       "      <td>Unknown</td>\n",
       "      <td>Beyond the Wall</td>\n",
       "      <td>House Royce, Night’s Watch</td>\n",
       "      <td>2.0</td>\n",
       "    </tr>\n",
       "    <tr>\n",
       "      <td>1</td>\n",
       "      <td>2</td>\n",
       "      <td>1</td>\n",
       "      <td>1</td>\n",
       "      <td>Gared</td>\n",
       "      <td>White Walker</td>\n",
       "      <td>Ice sword</td>\n",
       "      <td>Blade</td>\n",
       "      <td>Unknown</td>\n",
       "      <td>Beyond the Wall</td>\n",
       "      <td>Night’s Watch</td>\n",
       "      <td>2.0</td>\n",
       "    </tr>\n",
       "    <tr>\n",
       "      <td>2</td>\n",
       "      <td>3</td>\n",
       "      <td>1</td>\n",
       "      <td>1</td>\n",
       "      <td>Will</td>\n",
       "      <td>Ned Stark</td>\n",
       "      <td>Sword (Ice)</td>\n",
       "      <td>Blade</td>\n",
       "      <td>Deserting the Night’s Watch</td>\n",
       "      <td>Winterfell</td>\n",
       "      <td>Night’s Watch</td>\n",
       "      <td>2.0</td>\n",
       "    </tr>\n",
       "    <tr>\n",
       "      <td>3</td>\n",
       "      <td>4</td>\n",
       "      <td>1</td>\n",
       "      <td>1</td>\n",
       "      <td>Stag</td>\n",
       "      <td>Direwolf</td>\n",
       "      <td>Direwolf teeth</td>\n",
       "      <td>Animal</td>\n",
       "      <td>Unknown</td>\n",
       "      <td>Winterfell</td>\n",
       "      <td>None</td>\n",
       "      <td>1.0</td>\n",
       "    </tr>\n",
       "    <tr>\n",
       "      <td>4</td>\n",
       "      <td>5</td>\n",
       "      <td>1</td>\n",
       "      <td>1</td>\n",
       "      <td>Direwolf</td>\n",
       "      <td>Stag</td>\n",
       "      <td>Antler</td>\n",
       "      <td>Animal</td>\n",
       "      <td>Unknown</td>\n",
       "      <td>Winterfell</td>\n",
       "      <td>None</td>\n",
       "      <td>1.0</td>\n",
       "    </tr>\n",
       "  </tbody>\n",
       "</table>\n",
       "</div>"
      ],
      "text/plain": [
       "   order  season  episode character_killed        killer          method  \\\n",
       "0      1       1        1     Waymar Royce  White Walker       Ice sword   \n",
       "1      2       1        1            Gared  White Walker       Ice sword   \n",
       "2      3       1        1             Will     Ned Stark     Sword (Ice)   \n",
       "3      4       1        1             Stag      Direwolf  Direwolf teeth   \n",
       "4      5       1        1         Direwolf          Stag          Antler   \n",
       "\n",
       "  method_cat                       reason         location  \\\n",
       "0      Blade                      Unknown  Beyond the Wall   \n",
       "1      Blade                      Unknown  Beyond the Wall   \n",
       "2      Blade  Deserting the Night’s Watch       Winterfell   \n",
       "3     Animal                      Unknown       Winterfell   \n",
       "4     Animal                      Unknown       Winterfell   \n",
       "\n",
       "                   allegiance  importance  \n",
       "0  House Royce, Night’s Watch         2.0  \n",
       "1               Night’s Watch         2.0  \n",
       "2               Night’s Watch         2.0  \n",
       "3                        None         1.0  \n",
       "4                        None         1.0  "
      ]
     },
     "execution_count": 8,
     "metadata": {},
     "output_type": "execute_result"
    }
   ],
   "source": [
    "#Sneak peek at DS specific library\n",
    "import pandas as pd\n",
    "pd.read_csv(data_file_location).head()"
   ]
  },
  {
   "cell_type": "markdown",
   "metadata": {
    "slideshow": {
     "slide_type": "fragment"
    }
   },
   "source": [
    "https://github.com/washingtonpost/data-game-of-thrones-deaths"
   ]
  },
  {
   "cell_type": "markdown",
   "metadata": {
    "slideshow": {
     "slide_type": "slide"
    }
   },
   "source": [
    "## Another example: How many people did Arya Stark and Jon Snow kill?\n",
    "**Pseudo code**\n",
    "1. Set variable `jon` equal to zero\n",
    "2. Set variable `arya` equal to zero\n",
    "\n",
    "3. Keep going through lines of the file  \n",
    "    3a. For every new line, `split` at commas  \n",
    "    3b. If 4th column is \"Arya Stark\" then add 1 to variable `arya`  \n",
    "    3c. If 4th column is \"Jon Snow\" then add 1 to variable `jon`\n",
    "4. When done with lines in file, show `arya` and `jon` "
   ]
  },
  {
   "cell_type": "markdown",
   "metadata": {
    "slideshow": {
     "slide_type": "slide"
    }
   },
   "source": [
    "## Real Python: How many people did Arya Stark and Jon Snow kill?"
   ]
  },
  {
   "cell_type": "code",
   "execution_count": 5,
   "metadata": {
    "slideshow": {
     "slide_type": "fragment"
    }
   },
   "outputs": [
    {
     "name": "stdout",
     "output_type": "stream",
     "text": [
      "Arya killed 1278 people\n",
      "Jon killed 112 people\n"
     ]
    }
   ],
   "source": [
    "jon = 0 #variable containing Jon's score\n",
    "arya = 0 #variable containing Arya's score\n",
    "\n",
    "#Open file\n",
    "file = open(data_file_location, encoding='utf8')\n",
    "\n",
    "#Go through each line in file\n",
    "for line in file:\n",
    "  tokens = line.split(',') #separate line into columns\n",
    "  if tokens[4]==\"Arya Stark\": arya = arya + 1\n",
    "  if tokens[4]==\"Jon Snow\": \n",
    "    jon = jon + 1\n",
    "\n",
    "file.close()\n",
    "print(\"Arya killed\", arya, \"people\")\n",
    "print(\"Jon killed\", jon, \"people\")\n"
   ]
  },
  {
   "cell_type": "code",
   "execution_count": null,
   "metadata": {
    "slideshow": {
     "slide_type": "fragment"
    }
   },
   "outputs": [],
   "source": [
    "#Sneak peak at \"Python For Analytics\" -- more declarative\n",
    "data_df = pd.read_csv(data_file_location)\n",
    "data_df[data_df.killer.isin([\"Arya Stark\", \"Jon Snow\"])].killer.value_counts()"
   ]
  },
  {
   "cell_type": "markdown",
   "metadata": {
    "slideshow": {
     "slide_type": "fragment"
    }
   },
   "source": [
    "* Use with open(file_name) as file\n",
    "* Notice that we are accessing the 4th item by using the index 3\n",
    "* Notice that the if statements can be 1 or 2 lines\n",
    "* Find function calls\n",
    "* Find variables\n",
    "* What are the types and scopes of variables"
   ]
  },
  {
   "cell_type": "markdown",
   "metadata": {
    "slideshow": {
     "slide_type": "slide"
    }
   },
   "source": [
    "## Who did Jaime Lannister kill: **Pseudo code**\n",
    "1. Create a list which will hold the names of people Jaime killed\n",
    "\n",
    "3. Keep going through lines of the file  \n",
    "    3a. For every new line, `split` at commas  \n",
    "    3b. If 4th column is \"Jaime Lannister\" then add get the name of the person killed from the 8th column and add it to the list\n",
    "4. When done with lines in file, show the list of people killed by Jaime "
   ]
  },
  {
   "cell_type": "markdown",
   "metadata": {
    "slideshow": {
     "slide_type": "slide"
    }
   },
   "source": [
    "## Who did Jaime Lannister kill: **Real code**"
   ]
  },
  {
   "cell_type": "code",
   "execution_count": 6,
   "metadata": {
    "slideshow": {
     "slide_type": "fragment"
    }
   },
   "outputs": [
    {
     "name": "stdout",
     "output_type": "stream",
     "text": [
      "['Jory Cassel', 'Alton Lannister', 'Torrhen Karstark', 'Martell soldier', 'Aerys II Targaryen', 'Olenna Tyrell', 'Dothraki rider', 'Dothraki rider', 'Dothraki rider', 'Dothraki rider', 'Wight', 'Wight', 'Wight', 'Wight', 'Wight', 'Wight', 'Wight', 'Wight', 'Wight', 'Wight', 'Wight', 'Wight', 'Euron Greyjoy']\n"
     ]
    }
   ],
   "source": [
    "killed = [] # list data type\n",
    "\n",
    "file = open(data_file_location, \"r\", encoding='utf8')\n",
    "\n",
    "for line in file:\n",
    "  tokens = line.split(',')\n",
    "  if tokens[4]==\"Jaime Lannister\":\n",
    "    name_of_killed = tokens[3]\n",
    "    killed.append(name_of_killed)\n",
    "\n",
    "file.close()\n",
    "print(killed)"
   ]
  },
  {
   "cell_type": "code",
   "execution_count": 9,
   "metadata": {
    "slideshow": {
     "slide_type": "fragment"
    }
   },
   "outputs": [
    {
     "name": "stdout",
     "output_type": "stream",
     "text": [
      "['Jory Cassel', 'Alton Lannister', 'Torrhen Karstark', 'Martell soldier', 'Aerys II Targaryen', 'Olenna Tyrell', 'Dothraki rider', 'Dothraki rider', 'Dothraki rider', 'Dothraki rider', 'Wight', 'Wight', 'Wight', 'Wight', 'Wight', 'Wight', 'Wight', 'Wight', 'Wight', 'Wight', 'Wight', 'Wight', 'Euron Greyjoy']\n"
     ]
    }
   ],
   "source": [
    "#Sneak peak at \"Python For Analytics\" -- more declarative\n",
    "data_df = pd.read_csv(data_file_location)\n",
    "print(list(data_df[data_df.killer == 'Jaime Lannister'].character_killed))"
   ]
  },
  {
   "cell_type": "markdown",
   "metadata": {
    "slideshow": {
     "slide_type": "fragment"
    }
   },
   "source": [
    "* Use with open(file_name) as file\n",
    "* Use variables, instead of tokens with hard coded numbers\n",
    "* How many people did he kill? (len)\n",
    "* Who was the first, last person he killed? (killed[0], killed[-1])\n",
    "* Who were the first three people he killed? (killed[0:3])"
   ]
  },
  {
   "cell_type": "markdown",
   "metadata": {
    "slideshow": {
     "slide_type": "slide"
    }
   },
   "source": [
    "## Final example: How many people did _any one_ kill?\n",
    "**Pseudo code**\n",
    "1. create a dictionary which will hold look-up keys and values\n",
    "\n",
    "3. Keep going through lines of the file\n",
    "    3a. For every new line, `split` at commas\n",
    "    3b. look up the killer's name in column 4 and add 1 to the value\n",
    "\n",
    "4. When done with lines in file, show the contents of the dictionary"
   ]
  },
  {
   "cell_type": "markdown",
   "metadata": {
    "slideshow": {
     "slide_type": "slide"
    }
   },
   "source": [
    "## Real Python: How many people did _any one_ kill?"
   ]
  },
  {
   "cell_type": "code",
   "execution_count": 11,
   "metadata": {
    "slideshow": {
     "slide_type": "fragment"
    }
   },
   "outputs": [
    {
     "data": {
      "text/plain": [
       "{'killer': 1,\n",
       " 'White Walker': 5,\n",
       " 'Ned Stark': 5,\n",
       " 'Direwolf': 1,\n",
       " 'Stag': 1,\n",
       " 'Lysa Arryn': 1,\n",
       " 'Dothraki man': 1,\n",
       " 'Summer': 5,\n",
       " 'Sandor “the Hound” Clegane': 59,\n",
       " 'Gregor “the Mountain” Clegane': 10,\n",
       " 'Tribesman': 2,\n",
       " 'Bronn': 27,\n",
       " 'Tyrion Lannister': 5,\n",
       " 'Rodrik Cassel': 2,\n",
       " 'Lannister soldier': 32,\n",
       " 'Jory Cassel': 3,\n",
       " 'Jaime Lannister': 23,\n",
       " 'Robb Stark': 3,\n",
       " 'Theon Greyjoy': 33,\n",
       " 'Khal Drogo': 2,\n",
       " 'Boar': 1,\n",
       " 'City watch guard': 6,\n",
       " 'Meryn Trant': 1,\n",
       " 'Arya Stark': 1278,\n",
       " 'Jon Snow': 112,\n",
       " 'Night’s Watch brother': 41,\n",
       " 'Mirri Maz Duur': 2,\n",
       " 'Jorah Mormont': 65,\n",
       " 'Hill tribesman': 2,\n",
       " 'Ilyn Payne': 1,\n",
       " 'Daenerys Targaryen': 24,\n",
       " 'None': 477,\n",
       " 'Melisandre “the Red Woman” of Asshai': 8,\n",
       " 'Janos Slynt': 1,\n",
       " 'Unknown (possible rival Dothraki men)': 1,\n",
       " 'Yoren': 5,\n",
       " 'Amory Lorch': 1,\n",
       " 'Polliver': 1,\n",
       " 'Grey Wind': 2,\n",
       " 'The Tickler': 1,\n",
       " 'Brienne of Tarth': 28,\n",
       " 'Jaqen H’ghar': 4,\n",
       " 'Qhorin Halfhand': 1,\n",
       " 'Peasants': 1,\n",
       " 'Osha': 2,\n",
       " 'Unknown': 67,\n",
       " 'Pyat Pree': 11,\n",
       " 'Accident': 1,\n",
       " 'Baratheon of King’s Landing soldier': 32,\n",
       " 'Baratheon of Dragonstone soldier': 24,\n",
       " 'Stannis Baratheon': 9,\n",
       " 'Podrick Payne': 5,\n",
       " 'Loras Tyrell': 4,\n",
       " 'Jeor Mormont': 1,\n",
       " 'Barristan Selmy': 16,\n",
       " 'Ramsay Bolton': 15,\n",
       " 'Karl Tanner': 2,\n",
       " 'Rast': 1,\n",
       " 'Unsullied': 27,\n",
       " 'Drogon': 1426,\n",
       " 'Karstark soldier': 2,\n",
       " 'Rickard Karstark': 1,\n",
       " 'Joffrey Baratheon': 1,\n",
       " 'Daario Naharis': 25,\n",
       " 'Sam Tarly': 7,\n",
       " 'Ygritte': 14,\n",
       " 'Shaggydog': 1,\n",
       " 'Grey Worm': 43,\n",
       " 'Lothar Frey': 2,\n",
       " 'Frey soldier': 27,\n",
       " 'Roose Bolton': 1,\n",
       " 'Catelyn Stark': 1,\n",
       " 'Black Walder Rivers': 1,\n",
       " 'Olenna Tyrell': 1,\n",
       " 'Baelish soldier': 1,\n",
       " 'Styr': 8,\n",
       " 'Thenn raider': 4,\n",
       " 'Tormund': 66,\n",
       " 'Meereen slaves': 1,\n",
       " 'Eddison Tollett': 3,\n",
       " 'Locke': 2,\n",
       " 'Night’s Watch mutineer': 3,\n",
       " 'Hodor/Bran Stark': 4,\n",
       " 'Grenn': 2,\n",
       " 'Ghost': 2,\n",
       " 'Yara Greyjoy': 12,\n",
       " 'Greyjoy soldier': 3,\n",
       " 'Petyr Baelish': 1,\n",
       " 'Wildling': 20,\n",
       " 'Allister Thorne': 3,\n",
       " 'Wildling giant': 2,\n",
       " 'Pypar': 1,\n",
       " 'Giant mammoth': 1,\n",
       " 'Olly': 1,\n",
       " 'Meera Reed': 6,\n",
       " 'Child of the Forest': 17,\n",
       " 'Son of the Harpy': 43,\n",
       " 'Bounty hunter': 1,\n",
       " 'Mossador': 1,\n",
       " 'Qyburn': 1,\n",
       " 'Obara Sand': 2,\n",
       " 'Rhaegal': 273,\n",
       " 'Pit fighter': 4,\n",
       " 'Magnar Loboda': 3,\n",
       " 'Wight': 1602,\n",
       " 'Karsi': 9,\n",
       " 'Wun Weg Wun Dar Wun': 31,\n",
       " 'Wight child': 1,\n",
       " 'Bolton soldier': 91,\n",
       " 'Water dancer pit fighter': 1,\n",
       " 'Meereenese champion pit fighter': 2,\n",
       " 'Selyse Baratheon': 1,\n",
       " 'Faceless man': 1,\n",
       " 'Ellaria Sand': 2,\n",
       " 'Night’s Watch brothers (final blow: Olly)': 1,\n",
       " 'Tyene Sand': 5,\n",
       " 'Euron Greyjoy': 12,\n",
       " 'Gerold Hightower': 1,\n",
       " 'Arthur Dayne': 3,\n",
       " 'Leaf': 37,\n",
       " 'Night King': 3,\n",
       " 'Benjen Stark': 23,\n",
       " 'Brotherhood Without Banners rogue': 1,\n",
       " 'Beric Dondarrion': 30,\n",
       " 'The Waif': 1,\n",
       " 'Yunkai soldier': 3,\n",
       " 'Stark soldier': 96,\n",
       " 'Horse': 8,\n",
       " 'Jon Umber': 4,\n",
       " 'Arryn soldier': 12,\n",
       " 'Sansa Stark': 1,\n",
       " 'Qyburn’s “Little Birds”': 1,\n",
       " 'Cersei Lannister': 199,\n",
       " 'Tommen Baratheon': 1,\n",
       " \"Sally's father\": 1,\n",
       " 'Himself': 1,\n",
       " 'Greyjoy (Euron-aligned) soldier': 8,\n",
       " 'Nymeria Sand': 1,\n",
       " 'Dothraki rider': 47,\n",
       " 'Dickon Tarly': 1,\n",
       " 'Gendry': 9,\n",
       " 'Wight snow bear': 4,\n",
       " 'Wight hunt party member': 4,\n",
       " 'Viserion': 42,\n",
       " 'Greyjoy (Yara-aligned) soldier': 24,\n",
       " 'Theon Grejoy': 1,\n",
       " 'Stark Soldier': 2,\n",
       " 'Giant wight': 8,\n",
       " 'Lyanna Mormont': 1,\n",
       " 'Viserion (Wight)': 5}"
      ]
     },
     "execution_count": 11,
     "metadata": {},
     "output_type": "execute_result"
    }
   ],
   "source": [
    "killers = {} # dictionary data type\n",
    "\n",
    "file = open(data_file_location, \"r\", encoding='utf8')\n",
    "\n",
    "for line in file:\n",
    "  tokens = line.split(',')\n",
    "  if tokens[4] in killers: kill_count = killers[tokens[4]]\n",
    "  else: kill_count = 0\n",
    "  kill_count = kill_count + 1\n",
    "  killers[tokens[4]] = kill_count\n",
    "\n",
    "file.close()\n",
    "killers"
   ]
  },
  {
   "cell_type": "code",
   "execution_count": 12,
   "metadata": {},
   "outputs": [
    {
     "data": {
      "text/plain": [
       "Wight                                        1602\n",
       "Drogon                                       1426\n",
       "Arya Stark                                   1278\n",
       "None                                          477\n",
       "Rhaegal                                       273\n",
       "                                             ... \n",
       "Gerold Hightower                                1\n",
       "Rickard Karstark                                1\n",
       "Night’s Watch brothers (final blow: Olly)       1\n",
       "Nymeria Sand                                    1\n",
       "Roose Bolton                                    1\n",
       "Name: killer, Length: 149, dtype: int64"
      ]
     },
     "execution_count": 12,
     "metadata": {},
     "output_type": "execute_result"
    }
   ],
   "source": [
    "#Sneak peak at \"Python For Analytics\" -- more declarative\n",
    "data_df = pd.read_csv(data_file_location)\n",
    "data_df.killer.value_counts()"
   ]
  },
  {
   "cell_type": "markdown",
   "metadata": {
    "slideshow": {
     "slide_type": "fragment"
    }
   },
   "source": [
    "Improve this:\n",
    "1. Assign tokens[4] to a variable\n",
    "2. Use += to increment\n",
    "3. Use get(key, default) (mention defaultdict(int))\n",
    "4. use killers.items() in a for loop for better formatting\n",
    "5. Notice that \"killer\" is actually a column heading!\n",
    "6. Use `with open(file_name) as file`\n",
    "\n",
    "7. How many did Jaime kill again?\n",
    "8. How many killers are there?\n",
    "9. How many dead are there?\n",
    "10. Who killed most people?\n"
   ]
  },
  {
   "cell_type": "markdown",
   "metadata": {},
   "source": [
    "Reference:\n",
    "Deaths in Game of Thrones: https://data.world/makeovermonday/2019w27"
   ]
  },
  {
   "cell_type": "code",
   "execution_count": null,
   "metadata": {},
   "outputs": [],
   "source": []
  }
 ],
 "metadata": {
  "celltoolbar": "Slideshow",
  "kernelspec": {
   "display_name": "Python 3",
   "language": "python",
   "name": "python3"
  },
  "language_info": {
   "codemirror_mode": {
    "name": "ipython",
    "version": 3
   },
   "file_extension": ".py",
   "mimetype": "text/x-python",
   "name": "python",
   "nbconvert_exporter": "python",
   "pygments_lexer": "ipython3",
   "version": "3.6.9"
  }
 },
 "nbformat": 4,
 "nbformat_minor": 2
}
