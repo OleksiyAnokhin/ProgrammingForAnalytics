{
 "cells": [
  {
   "cell_type": "markdown",
   "metadata": {},
   "source": [
    "# Numbers"
   ]
  },
  {
   "cell_type": "markdown",
   "metadata": {},
   "source": [
    "Recall that Python has two basic number types: `int`, which stands for integers and `float`, which stands for decimal numbers.\n",
    "\n",
    "#### Floating point numbers are not exact\n",
    "As beginners, the most important thing to remember is that `float` numbers are _approximations_."
   ]
  },
  {
   "cell_type": "code",
   "execution_count": null,
   "metadata": {},
   "outputs": [],
   "source": [
    "0.1 + 0.2"
   ]
  },
  {
   "cell_type": "markdown",
   "metadata": {},
   "source": [
    "Notice that 0.1 + 0.2 don't produce 0.3. There is a ....0004 at the end. This means that you should avoid check for exact equality."
   ]
  },
  {
   "cell_type": "code",
   "execution_count": null,
   "metadata": {},
   "outputs": [],
   "source": [
    "0.1 + 0.2 == 0.3"
   ]
  },
  {
   "cell_type": "markdown",
   "metadata": {},
   "source": [
    "One way to do this comparison is to see if two expressions are within a margin of error:"
   ]
  },
  {
   "cell_type": "code",
   "execution_count": null,
   "metadata": {},
   "outputs": [],
   "source": [
    "abs((0.1 + 0.2) - 0.3) < 0.000001"
   ]
  },
  {
   "cell_type": "markdown",
   "metadata": {},
   "source": [
    "The expression above can be read as, \"is the difference between the two values so small that it may as well be zero?\" (the abs() funciton is used to remove the negative sign, since that is not relevant here)\n",
    "\n",
    "### Arithmetic operatiors"
   ]
  },
  {
   "cell_type": "markdown",
   "metadata": {},
   "source": [
    "Python provides these basic operators: `+`, `-`, `*`, `/`, `%`, `**`, `//`\n",
    "\n",
    "Plus (+), minus (-), multiplication (\\*) and division (/) work as they did in elementry school.\n",
    "\n",
    "#### Caveats\n",
    "The power (\\*\\*) function, aka the exponent is also familiar to most of you:"
   ]
  },
  {
   "cell_type": "code",
   "execution_count": null,
   "metadata": {},
   "outputs": [],
   "source": [
    "10**2"
   ]
  },
  {
   "cell_type": "markdown",
   "metadata": {},
   "source": [
    "Floor division (//) is very similar to normal division, except anything after decimals is removed (the number is converted to an integer by rounding down):"
   ]
  },
  {
   "cell_type": "code",
   "execution_count": null,
   "metadata": {},
   "outputs": [],
   "source": [
    "2/5"
   ]
  },
  {
   "cell_type": "code",
   "execution_count": null,
   "metadata": {},
   "outputs": [],
   "source": [
    "2//5"
   ]
  },
  {
   "cell_type": "markdown",
   "metadata": {},
   "source": [
    "The modulus operator (%) is generally unknown to new programmers, yet is quite useful in day to day programming. Modulus (aka mod) divides the number of the left by number on the right and returns the remainder:"
   ]
  },
  {
   "cell_type": "code",
   "execution_count": null,
   "metadata": {},
   "outputs": [],
   "source": [
    "1/3"
   ]
  },
  {
   "cell_type": "code",
   "execution_count": null,
   "metadata": {},
   "outputs": [],
   "source": [
    "0 % 3"
   ]
  },
  {
   "cell_type": "code",
   "execution_count": null,
   "metadata": {},
   "outputs": [],
   "source": [
    "1 % 3"
   ]
  },
  {
   "cell_type": "code",
   "execution_count": null,
   "metadata": {},
   "outputs": [],
   "source": [
    "2 % 3"
   ]
  },
  {
   "cell_type": "code",
   "execution_count": null,
   "metadata": {},
   "outputs": [],
   "source": [
    "3 % 3"
   ]
  },
  {
   "cell_type": "code",
   "execution_count": null,
   "metadata": {},
   "outputs": [],
   "source": [
    "4 % 3"
   ]
  },
  {
   "cell_type": "code",
   "execution_count": null,
   "metadata": {},
   "outputs": [],
   "source": [
    "# Show all values of x % 4 when x is between 0 and 9 \n",
    "[x % 4 for x in range(20)]"
   ]
  },
  {
   "cell_type": "markdown",
   "metadata": {},
   "source": [
    "**Exercise**\n",
    "\n",
    "What are the results of 0 % 2, 1 % 2, 2 % 2, 3 % 2, 4 % 2?"
   ]
  },
  {
   "cell_type": "markdown",
   "metadata": {},
   "source": [
    "### Comparison operators\n",
    "\n",
    "The following table shows Python's comparison operators:\n",
    "\n",
    "| Operator | Description | Example\n",
    "| ---      | ---         | ---\n",
    "| ==       | Are numbers equal? | 10 == 20 # False\n",
    "| !=       | Are numbers NOT equal?| 10 != 20 # True\n",
    "| >       | Is one number greater than the other?    | 20 > 10 # True\n",
    "| <       | Is one number less than the other?    | 20 < 10 # False\n",
    "| >=       | Is one number greater or equal to other?    | 20 >= 10 # True\n",
    "| <=       | Is one number less than or equal to other?    | 20 <= 10 # False\n",
    "| >       | Is one number greater than the other?    | 20 > 10 # True\n",
    "\n",
    "For the exercises below, write the expression in a cell and execute it\n",
    "\n",
    "**Exercise**\n",
    "\n",
    "What is the value of 20 > 20?\n",
    "\n",
    "**Exercise**\n",
    "\n",
    "What is the value of 20 >= 20?\n",
    "\n",
    "**Exercise**\n",
    "\n",
    "The CDC website defines BMI (body mass index) formula as weight (in pounds) times 703 divided by height in inches. Write a function which accepts weight and height. This function should then return \"Underweight\" if the BMI is less than 18.5, \"Normal\" if the BMI is between 18.5 and 24.9, \"Overweight\" if the BMI is between 25 and 29.9 and \"Obese\" if BMI of 30 or greater."
   ]
  },
  {
   "cell_type": "markdown",
   "metadata": {},
   "source": [
    "### Type conversion\n",
    "\n",
    "Other data types may be converted to numeric types using the `int` and `float` functions:"
   ]
  },
  {
   "cell_type": "code",
   "execution_count": null,
   "metadata": {},
   "outputs": [],
   "source": [
    "float(\"123.4\")"
   ]
  },
  {
   "cell_type": "code",
   "execution_count": null,
   "metadata": {},
   "outputs": [],
   "source": [
    "float(\"123\")"
   ]
  },
  {
   "cell_type": "code",
   "execution_count": null,
   "metadata": {},
   "outputs": [],
   "source": [
    "int(\"123\")"
   ]
  }
 ],
 "metadata": {
  "kernelspec": {
   "display_name": "Python 3",
   "language": "python",
   "name": "python3"
  },
  "language_info": {
   "codemirror_mode": {
    "name": "ipython",
    "version": 3
   },
   "file_extension": ".py",
   "mimetype": "text/x-python",
   "name": "python",
   "nbconvert_exporter": "python",
   "pygments_lexer": "ipython3",
   "version": "3.7.3"
  }
 },
 "nbformat": 4,
 "nbformat_minor": 2
}
