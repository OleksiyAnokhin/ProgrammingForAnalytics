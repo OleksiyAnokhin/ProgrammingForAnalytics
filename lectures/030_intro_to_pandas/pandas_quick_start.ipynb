{
 "cells": [
  {
   "cell_type": "markdown",
   "metadata": {},
   "source": [
    "# Pandas quick start\n",
    "Pandas is a 3rd-party, open source, library used to for data science. It is perhaps the most important library for you, as a student of analytics.\n",
    "\n",
    "At a high level, Pandas provides the following functionality:\n",
    "1. Reading and writing data in various formats: csv, sql, feather and many others\n",
    "2. A set of data structures in which to store data (so higher level than lists, tuples and dictionaries)\n",
    "3. Functions to transform data in _many_ ways: individual columns, operating on multiple columns at once, aggregating in total or in by categories (aka group by), visualizing datasets, etc.\n",
    "\n",
    "Further, _upstream_ libraries, such as ones providing machine learning algorithms (scikit-learn) know how to consume Pandas data structures.\n",
    "\n",
    "Extremely helpful Pandas cheatsheet: https://pandas.pydata.org/Pandas_Cheat_Sheet.pdf (search the web, there are many more, just as useful)"
   ]
  },
  {
   "cell_type": "code",
   "execution_count": null,
   "metadata": {},
   "outputs": [],
   "source": [
    "import numpy as np # <= numpy is only used once, for the np.log function (although pandas is built on top of it)\n",
    "import pandas as pd # <= `pd` is almost always the abbreviation used for pandas\n",
    "import seaborn as sn # <= seaborn is not part of pandas, but very useful charting library (built on top of matplotlib)"
   ]
  },
  {
   "cell_type": "code",
   "execution_count": null,
   "metadata": {},
   "outputs": [],
   "source": [
    "# remember, since we will be drawing some charts, we need to execute this line - because seaborn uses matplotlib\n",
    "%matplotlib inline \n",
    "\n",
    "# the following line tells pandas to avoid scietific notation\n",
    "pd.set_option('display.float_format', '{:.2f}'.format)"
   ]
  },
  {
   "cell_type": "markdown",
   "metadata": {},
   "source": [
    "## Quick walk-through of Pandas\n",
    "\n",
    "### Load file and take a quick look at it\n",
    "\n",
    "Note that this file is available at: https://www.kaggle.com/kumarajarshi/life-expectancy-who/home\n",
    "Go to that URL, click 'Download' which will start downloading a zip file. Load it as shown below:"
   ]
  },
  {
   "cell_type": "code",
   "execution_count": null,
   "metadata": {},
   "outputs": [],
   "source": [
    "# Read csv file\n",
    "life_df = pd.read_csv(\"../../datasets/life-expectancy/life-expectancy-who.zip\")"
   ]
  },
  {
   "cell_type": "code",
   "execution_count": null,
   "metadata": {},
   "outputs": [],
   "source": [
    "life_df.head() # Look at the first 5 lines to visually inspect data"
   ]
  },
  {
   "cell_type": "code",
   "execution_count": null,
   "metadata": {},
   "outputs": [],
   "source": [
    "life_df.shape # This file has 2,938 records (rows) and 11 columns"
   ]
  },
  {
   "cell_type": "code",
   "execution_count": null,
   "metadata": {},
   "outputs": [],
   "source": [
    "life_df.columns # List of columns"
   ]
  },
  {
   "cell_type": "markdown",
   "metadata": {},
   "source": [
    "**WARNING** Notice that some columns have an extra space!"
   ]
  },
  {
   "cell_type": "code",
   "execution_count": null,
   "metadata": {},
   "outputs": [],
   "source": [
    "life_df.dtypes"
   ]
  },
  {
   "cell_type": "code",
   "execution_count": null,
   "metadata": {},
   "outputs": [],
   "source": [
    "life_df.describe() # quick summary of all the columns"
   ]
  },
  {
   "cell_type": "code",
   "execution_count": null,
   "metadata": {},
   "outputs": [],
   "source": [
    "# Warning, this step may take a minute or two to complete\n",
    "%time sn.pairplot(life_df) # look at all variables at once - pair-plot"
   ]
  },
  {
   "cell_type": "markdown",
   "metadata": {},
   "source": [
    "The previous plot isn't very useful because there are too many columns. What if we had fewer columns? Let's just select the first 5 columns:"
   ]
  },
  {
   "cell_type": "code",
   "execution_count": null,
   "metadata": {},
   "outputs": [],
   "source": [
    "first_few_df = life_df[['Country', 'Year', 'Population', 'Life expectancy ', 'Adult Mortality',\n",
    "       'infant deaths', 'Alcohol', 'percentage expenditure', 'Hepatitis B',\n",
    "       'Measles ']]\n",
    "first_few_df.head()"
   ]
  },
  {
   "cell_type": "markdown",
   "metadata": {},
   "source": [
    "Let's also limit the data to the year 2015"
   ]
  },
  {
   "cell_type": "code",
   "execution_count": null,
   "metadata": {},
   "outputs": [],
   "source": [
    "first_few_2015_df = first_few_df[first_few_df.Year == 2015]\n",
    "first_few_2015_df"
   ]
  },
  {
   "cell_type": "code",
   "execution_count": null,
   "metadata": {},
   "outputs": [],
   "source": [
    "first_few_2015_df.shape"
   ]
  },
  {
   "cell_type": "code",
   "execution_count": null,
   "metadata": {},
   "outputs": [],
   "source": [
    "%time sn.pairplot(first_few_2015_df)"
   ]
  },
  {
   "cell_type": "code",
   "execution_count": null,
   "metadata": {},
   "outputs": [],
   "source": [
    "first_few_2015_df['Country'] # Show the column 'Country'"
   ]
  },
  {
   "cell_type": "code",
   "execution_count": null,
   "metadata": {},
   "outputs": [],
   "source": [
    "first_few_2015_df['Life expectancy '] # <= Notice the extra space!"
   ]
  },
  {
   "cell_type": "code",
   "execution_count": null,
   "metadata": {},
   "outputs": [],
   "source": [
    "first_few_2015_df['Life expectancy '].value_counts() # So what are common life expectancies?"
   ]
  },
  {
   "cell_type": "markdown",
   "metadata": {},
   "source": [
    "Previous list of numbers is not very useful, let's plot the distribution:"
   ]
  },
  {
   "cell_type": "code",
   "execution_count": null,
   "metadata": {},
   "outputs": [],
   "source": [
    "first_few_2015_df['Life expectancy '].plot.hist()"
   ]
  },
  {
   "cell_type": "code",
   "execution_count": null,
   "metadata": {},
   "outputs": [],
   "source": [
    "first_few_2015_df['infant deaths'].plot.hist(10)"
   ]
  },
  {
   "cell_type": "code",
   "execution_count": null,
   "metadata": {},
   "outputs": [],
   "source": [
    "np.log(first_few_2015_df['infant deaths']+1).plot.hist(10) # just to \"zoom\" in quickly - dirty hack"
   ]
  },
  {
   "cell_type": "code",
   "execution_count": null,
   "metadata": {},
   "outputs": [],
   "source": [
    "#There are some cases where infant deaths are over 200???\n",
    "first_few_2015_df[first_few_2015_df['infant deaths'] > 200]"
   ]
  },
  {
   "cell_type": "markdown",
   "metadata": {},
   "source": [
    "The numbers for infant deaths are _so_ high that we need to go back to the data source and double check our understanding.\n",
    "\n",
    "**Exercise** Check the exact definition of 'infant deaths.'"
   ]
  },
  {
   "cell_type": "markdown",
   "metadata": {},
   "source": [
    "The 'Measles' value is defined as 'number of reported cases per 1,000 population.' Let's find the actual number of measles per country (in 2015):"
   ]
  },
  {
   "cell_type": "code",
   "execution_count": null,
   "metadata": {},
   "outputs": [],
   "source": [
    "first_few_2015_df['Measles'] * first_few_2015_df['Population'] # What happened? (hint, extra space)\n",
    "# Why did you get the error and have you seen that error before? "
   ]
  },
  {
   "cell_type": "code",
   "execution_count": null,
   "metadata": {},
   "outputs": [],
   "source": [
    "# In the calculation below, notice that we just added the two vectors, as if they were numbers...no loops!!\n",
    "first_few_2015_df['Measles '] * first_few_2015_df['Population']"
   ]
  },
  {
   "cell_type": "markdown",
   "metadata": {},
   "source": [
    "Something _very_ interesting happened above. We added two lists or vectors of numbers, without using a loop! Pandas and numpy (and matrix math) works this way.\n",
    "\n",
    "Let's add this column back to our data frame:"
   ]
  },
  {
   "cell_type": "code",
   "execution_count": null,
   "metadata": {},
   "outputs": [],
   "source": [
    "# We are creating a new column!\n",
    "first_few_2015_df['Total Measles'] = first_few_2015_df['Measles '] * first_few_2015_df['Population']"
   ]
  },
  {
   "cell_type": "code",
   "execution_count": null,
   "metadata": {},
   "outputs": [],
   "source": [
    "first_few_2015_df"
   ]
  },
  {
   "cell_type": "markdown",
   "metadata": {},
   "source": [
    "### Cheap version of Pandas\n",
    "\n",
    "Let's try to make a very tiny, very silly version of Pands ourselves.\n",
    "\n",
    "The first implementation is just a dictionary with column names as keys and lists of data as values. Here is an example:"
   ]
  },
  {
   "cell_type": "code",
   "execution_count": 1,
   "metadata": {},
   "outputs": [],
   "source": [
    "import random"
   ]
  },
  {
   "cell_type": "code",
   "execution_count": 8,
   "metadata": {},
   "outputs": [
    {
     "data": {
      "text/plain": [
       "{'col1': [0.6398486505677585,\n",
       "  0.3920191311411376,\n",
       "  0.0764289871014111,\n",
       "  0.27912566590029975,\n",
       "  0.6085028811965094,\n",
       "  0.5844715519424225,\n",
       "  0.4493329975318324,\n",
       "  0.255595127621711,\n",
       "  0.9415402958374092,\n",
       "  0.10611719951008902],\n",
       " 'col2': [0.5732160920978465,\n",
       "  0.7395429181420299,\n",
       "  0.46768085671348714,\n",
       "  0.1634372437932784,\n",
       "  0.6812093521811051,\n",
       "  0.8066784492113644,\n",
       "  0.01504381743026273,\n",
       "  0.7446201983015571,\n",
       "  0.0028980115185667232,\n",
       "  0.11589449403020202],\n",
       " 'col3': [0.918990817420139,\n",
       "  0.5478576979453401,\n",
       "  0.9624975236122917,\n",
       "  0.25060776136028673,\n",
       "  0.5608692014295706,\n",
       "  0.7330310730936478,\n",
       "  0.07407226163415981,\n",
       "  0.24951115543002644,\n",
       "  0.9174192241058191,\n",
       "  0.05865872181721099]}"
      ]
     },
     "execution_count": 8,
     "metadata": {},
     "output_type": "execute_result"
    }
   ],
   "source": [
    "df = {\n",
    "   \"col1\": [random.random() for x in range(10)]\n",
    " , \"col2\": [random.random() for x in range(10)]\n",
    " , \"col3\": [random.random() for x in range(10)]\n",
    "}\n",
    "df"
   ]
  },
  {
   "cell_type": "code",
   "execution_count": 9,
   "metadata": {},
   "outputs": [
    {
     "data": {
      "text/plain": [
       "[0.6398486505677585,\n",
       " 0.3920191311411376,\n",
       " 0.0764289871014111,\n",
       " 0.27912566590029975,\n",
       " 0.6085028811965094,\n",
       " 0.5844715519424225,\n",
       " 0.4493329975318324,\n",
       " 0.255595127621711,\n",
       " 0.9415402958374092,\n",
       " 0.10611719951008902]"
      ]
     },
     "execution_count": 9,
     "metadata": {},
     "output_type": "execute_result"
    }
   ],
   "source": [
    "df['col1']"
   ]
  },
  {
   "cell_type": "markdown",
   "metadata": {},
   "source": [
    "#### Write a function to read csv files"
   ]
  },
  {
   "cell_type": "code",
   "execution_count": 25,
   "metadata": {},
   "outputs": [],
   "source": [
    "import collections\n",
    "\n",
    "def create_df_from_csv(file):\n",
    "    \n",
    "    num_of_columns = None\n",
    "    header = None\n",
    "    df = collections.defaultdict(list)\n",
    "    \n",
    "    with open(file, \"r\") as f:\n",
    "        for line in f:\n",
    "            tokens = line.split(\",\") # recall that this is not the best way to parse csv files (python has a csv library built-in)\n",
    "            if not num_of_columns: \n",
    "                num_of_columns = len(tokens) # count the number of columns in the first row\n",
    "                header = [t.strip() for t in tokens] # assumes the first row will always contain header\n",
    "            else:\n",
    "                for idx, col in enumerate(header): df[col].append(tokens[idx].strip()) # assumes all rows have equal number of columns\n",
    "    return df"
   ]
  },
  {
   "cell_type": "markdown",
   "metadata": {},
   "source": [
    "For the next step, create a 10 line version of the file in datasets/life-expectancy, otherwise there will be too much data for you to see the structure of the dataframe (but the code should work, either way)"
   ]
  },
  {
   "cell_type": "code",
   "execution_count": 23,
   "metadata": {},
   "outputs": [
    {
     "data": {
      "text/plain": [
       "defaultdict(list,\n",
       "            {'Country': ['Afghanistan',\n",
       "              'Afghanistan',\n",
       "              'Afghanistan',\n",
       "              'Afghanistan',\n",
       "              'Afghanistan',\n",
       "              'Afghanistan',\n",
       "              'Afghanistan',\n",
       "              'Afghanistan',\n",
       "              'Afghanistan'],\n",
       "             'Year': ['2015',\n",
       "              '2014',\n",
       "              '2013',\n",
       "              '2012',\n",
       "              '2011',\n",
       "              '2010',\n",
       "              '2009',\n",
       "              '2008',\n",
       "              '2007'],\n",
       "             'Status': ['Developing',\n",
       "              'Developing',\n",
       "              'Developing',\n",
       "              'Developing',\n",
       "              'Developing',\n",
       "              'Developing',\n",
       "              'Developing',\n",
       "              'Developing',\n",
       "              'Developing'],\n",
       "             'Life expectancy': ['65',\n",
       "              '59.9',\n",
       "              '59.9',\n",
       "              '59.5',\n",
       "              '59.2',\n",
       "              '58.8',\n",
       "              '58.6',\n",
       "              '58.1',\n",
       "              '57.5'],\n",
       "             'Adult Mortality': ['263',\n",
       "              '271',\n",
       "              '268',\n",
       "              '272',\n",
       "              '275',\n",
       "              '279',\n",
       "              '281',\n",
       "              '287',\n",
       "              '295'],\n",
       "             'infant deaths': ['62',\n",
       "              '64',\n",
       "              '66',\n",
       "              '69',\n",
       "              '71',\n",
       "              '74',\n",
       "              '77',\n",
       "              '80',\n",
       "              '82'],\n",
       "             'Alcohol': ['0.01',\n",
       "              '0.01',\n",
       "              '0.01',\n",
       "              '0.01',\n",
       "              '0.01',\n",
       "              '0.01',\n",
       "              '0.01',\n",
       "              '0.03',\n",
       "              '0.02'],\n",
       "             'percentage expenditure': ['71.27962362',\n",
       "              '73.52358168',\n",
       "              '73.21924272',\n",
       "              '78.1842153',\n",
       "              '7.097108703',\n",
       "              '79.67936736',\n",
       "              '56.76221682',\n",
       "              '25.87392536',\n",
       "              '10.91015598'],\n",
       "             'Hepatitis B': ['65',\n",
       "              '62',\n",
       "              '64',\n",
       "              '67',\n",
       "              '68',\n",
       "              '66',\n",
       "              '63',\n",
       "              '64',\n",
       "              '63'],\n",
       "             'Measles': ['1154',\n",
       "              '492',\n",
       "              '430',\n",
       "              '2787',\n",
       "              '3013',\n",
       "              '1989',\n",
       "              '2861',\n",
       "              '1599',\n",
       "              '1141'],\n",
       "             'BMI': ['19.1',\n",
       "              '18.6',\n",
       "              '18.1',\n",
       "              '17.6',\n",
       "              '17.2',\n",
       "              '16.7',\n",
       "              '16.2',\n",
       "              '15.7',\n",
       "              '15.2'],\n",
       "             'under-five deaths': ['83',\n",
       "              '86',\n",
       "              '89',\n",
       "              '93',\n",
       "              '97',\n",
       "              '102',\n",
       "              '106',\n",
       "              '110',\n",
       "              '113'],\n",
       "             'Polio': ['6', '58', '62', '67', '68', '66', '63', '64', '63'],\n",
       "             'Total expenditure': ['8.16',\n",
       "              '8.18',\n",
       "              '8.13',\n",
       "              '8.52',\n",
       "              '7.87',\n",
       "              '9.2',\n",
       "              '9.42',\n",
       "              '8.33',\n",
       "              '6.73'],\n",
       "             'Diphtheria': ['65',\n",
       "              '62',\n",
       "              '64',\n",
       "              '67',\n",
       "              '68',\n",
       "              '66',\n",
       "              '63',\n",
       "              '64',\n",
       "              '63'],\n",
       "             'HIV/AIDS': ['0.1',\n",
       "              '0.1',\n",
       "              '0.1',\n",
       "              '0.1',\n",
       "              '0.1',\n",
       "              '0.1',\n",
       "              '0.1',\n",
       "              '0.1',\n",
       "              '0.1'],\n",
       "             'GDP': ['584.25921',\n",
       "              '612.696514',\n",
       "              '631.744976',\n",
       "              '669.959',\n",
       "              '63.537231',\n",
       "              '553.32894',\n",
       "              '445.8932979',\n",
       "              '373.3611163',\n",
       "              '369.835796'],\n",
       "             'Population': ['33736494',\n",
       "              '327582',\n",
       "              '31731688',\n",
       "              '3696958',\n",
       "              '2978599',\n",
       "              '2883167',\n",
       "              '284331',\n",
       "              '2729431',\n",
       "              '26616792'],\n",
       "             'thinness  1-19 years': ['17.2',\n",
       "              '17.5',\n",
       "              '17.7',\n",
       "              '17.9',\n",
       "              '18.2',\n",
       "              '18.4',\n",
       "              '18.6',\n",
       "              '18.8',\n",
       "              '19'],\n",
       "             'thinness 5-9 years': ['17.3',\n",
       "              '17.5',\n",
       "              '17.7',\n",
       "              '18',\n",
       "              '18.2',\n",
       "              '18.4',\n",
       "              '18.7',\n",
       "              '18.9',\n",
       "              '19.1'],\n",
       "             'Income composition of resources': ['0.479',\n",
       "              '0.476',\n",
       "              '0.47',\n",
       "              '0.463',\n",
       "              '0.454',\n",
       "              '0.448',\n",
       "              '0.434',\n",
       "              '0.433',\n",
       "              '0.415'],\n",
       "             'Schooling': ['10.1',\n",
       "              '10',\n",
       "              '9.9',\n",
       "              '9.8',\n",
       "              '9.5',\n",
       "              '9.2',\n",
       "              '8.9',\n",
       "              '8.7',\n",
       "              '8.4']})"
      ]
     },
     "execution_count": 23,
     "metadata": {},
     "output_type": "execute_result"
    }
   ],
   "source": [
    "le_df = create_df_from_csv(\"../../datasets/life-expectancy/life_expectancy_10.csv\")\n",
    "le_df"
   ]
  },
  {
   "cell_type": "code",
   "execution_count": 24,
   "metadata": {},
   "outputs": [
    {
     "data": {
      "text/plain": [
       "['10.1', '10', '9.9', '9.8', '9.5', '9.2', '8.9', '8.7', '8.4']"
      ]
     },
     "execution_count": 24,
     "metadata": {},
     "output_type": "execute_result"
    }
   ],
   "source": [
    "le_df['Schooling']"
   ]
  },
  {
   "cell_type": "markdown",
   "metadata": {},
   "source": [
    "**Exercise** The function above is not _production ready._ What are some ways things can go wrong?\n",
    "**Exercise** How will classes combine the function (verb) and the dataframe data structure (noun)?"
   ]
  },
  {
   "cell_type": "code",
   "execution_count": null,
   "metadata": {},
   "outputs": [],
   "source": []
  }
 ],
 "metadata": {
  "kernelspec": {
   "display_name": "Python 3",
   "language": "python",
   "name": "python3"
  },
  "language_info": {
   "codemirror_mode": {
    "name": "ipython",
    "version": 3
   },
   "file_extension": ".py",
   "mimetype": "text/x-python",
   "name": "python",
   "nbconvert_exporter": "python",
   "pygments_lexer": "ipython3",
   "version": "3.6.9"
  }
 },
 "nbformat": 4,
 "nbformat_minor": 2
}
