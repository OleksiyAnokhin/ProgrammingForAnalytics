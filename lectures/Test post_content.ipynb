{
 "cells": [
  {
   "cell_type": "code",
   "execution_count": 5,
   "metadata": {},
   "outputs": [],
   "source": [
    "import os\n",
    "import sys"
   ]
  },
  {
   "cell_type": "code",
   "execution_count": 8,
   "metadata": {},
   "outputs": [],
   "source": [
    "module_path = os.path.abspath(os.path.join('..'))\n",
    "if module_path not in sys.path:\n",
    "    sys.path.append(module_path)"
   ]
  },
  {
   "cell_type": "code",
   "execution_count": 9,
   "metadata": {},
   "outputs": [
    {
     "data": {
      "text/plain": [
       "['C:\\\\Users\\\\p\\\\Anaconda3\\\\envs\\\\msca\\\\python36.zip',\n",
       " 'C:\\\\Users\\\\p\\\\Anaconda3\\\\envs\\\\msca\\\\DLLs',\n",
       " 'C:\\\\Users\\\\p\\\\Anaconda3\\\\envs\\\\msca\\\\lib',\n",
       " 'C:\\\\Users\\\\p\\\\Anaconda3\\\\envs\\\\msca',\n",
       " '',\n",
       " 'C:\\\\Users\\\\p\\\\Anaconda3\\\\envs\\\\msca\\\\lib\\\\site-packages',\n",
       " 'C:\\\\Users\\\\p\\\\Anaconda3\\\\envs\\\\msca\\\\lib\\\\site-packages\\\\win32',\n",
       " 'C:\\\\Users\\\\p\\\\Anaconda3\\\\envs\\\\msca\\\\lib\\\\site-packages\\\\win32\\\\lib',\n",
       " 'C:\\\\Users\\\\p\\\\Anaconda3\\\\envs\\\\msca\\\\lib\\\\site-packages\\\\Pythonwin',\n",
       " 'C:\\\\Users\\\\p\\\\Anaconda3\\\\envs\\\\msca\\\\lib\\\\site-packages\\\\IPython\\\\extensions',\n",
       " 'C:\\\\Users\\\\p\\\\.ipython',\n",
       " 'C:\\\\Users\\\\p\\\\proj\\\\ProgrammingForAnalytics']"
      ]
     },
     "execution_count": 9,
     "metadata": {},
     "output_type": "execute_result"
    }
   ],
   "source": [
    "sys.path"
   ]
  },
  {
   "cell_type": "code",
   "execution_count": 10,
   "metadata": {},
   "outputs": [],
   "source": [
    "from post_content import post_content"
   ]
  },
  {
   "cell_type": "code",
   "execution_count": 11,
   "metadata": {},
   "outputs": [
    {
     "name": "stdout",
     "output_type": "stream",
     "text": [
      "PostContent loaded\n"
     ]
    }
   ],
   "source": [
    "%reload_ext post_content"
   ]
  },
  {
   "cell_type": "code",
   "execution_count": null,
   "metadata": {},
   "outputs": [],
   "source": []
  }
 ],
 "metadata": {
  "kernelspec": {
   "display_name": "Python [conda env:msca] *",
   "language": "python",
   "name": "conda-env-msca-py"
  },
  "language_info": {
   "codemirror_mode": {
    "name": "ipython",
    "version": 3
   },
   "file_extension": ".py",
   "mimetype": "text/x-python",
   "name": "python",
   "nbconvert_exporter": "python",
   "pygments_lexer": "ipython3",
   "version": "3.6.9"
  }
 },
 "nbformat": 4,
 "nbformat_minor": 2
}
