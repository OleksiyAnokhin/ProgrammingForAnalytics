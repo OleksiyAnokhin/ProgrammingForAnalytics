{
 "cells": [
  {
   "cell_type": "markdown",
   "metadata": {},
   "source": [
    "# `lambda` and higher order functions\n",
    "\n",
    "This notebook will introduce round out the coverage of functions in Python. You will be introduced to `lambda` functions, functions which can be passed to or returned from other functions (higher order functions), functions which can be stored in data structures."
   ]
  },
  {
   "cell_type": "markdown",
   "metadata": {},
   "source": [
    "### Higher order functions\n",
    "\n",
    "Before getting into these new kinds of functions, lets recall how we use functions."
   ]
  },
  {
   "cell_type": "code",
   "execution_count": 4,
   "metadata": {},
   "outputs": [],
   "source": [
    "def add(a, b): return a + b"
   ]
  },
  {
   "cell_type": "code",
   "execution_count": 5,
   "metadata": {},
   "outputs": [
    {
     "data": {
      "text/plain": [
       "5"
      ]
     },
     "execution_count": 5,
     "metadata": {},
     "output_type": "execute_result"
    }
   ],
   "source": [
    "add(2, 3)"
   ]
  },
  {
   "cell_type": "markdown",
   "metadata": {},
   "source": [
    "Here, given a function, we passed it two numbers and it returned a number to us. Can we pass functions to functions?\n",
    "\n",
    "In most modern programming languages, you can.\n",
    "\n",
    "#### Pass functions to functions"
   ]
  },
  {
   "cell_type": "code",
   "execution_count": 7,
   "metadata": {},
   "outputs": [],
   "source": [
    "def do_something(func, a, b): return func(a,b)"
   ]
  },
  {
   "cell_type": "code",
   "execution_count": 8,
   "metadata": {},
   "outputs": [
    {
     "data": {
      "text/plain": [
       "5"
      ]
     },
     "execution_count": 8,
     "metadata": {},
     "output_type": "execute_result"
    }
   ],
   "source": [
    "do_something(add, 2, 3)"
   ]
  },
  {
   "cell_type": "code",
   "execution_count": 13,
   "metadata": {},
   "outputs": [
    {
     "data": {
      "text/plain": [
       "9"
      ]
     },
     "execution_count": 13,
     "metadata": {},
     "output_type": "execute_result"
    }
   ],
   "source": [
    "do_something(pow, 3, 2)"
   ]
  },
  {
   "cell_type": "code",
   "execution_count": 17,
   "metadata": {},
   "outputs": [
    {
     "data": {
      "text/plain": [
       "'helloworld'"
      ]
     },
     "execution_count": 17,
     "metadata": {},
     "output_type": "execute_result"
    }
   ],
   "source": [
    "do_something(add, \"hello\", \"world\")"
   ]
  },
  {
   "cell_type": "markdown",
   "metadata": {},
   "source": [
    "#### reduce/filter/map\n",
    "\n",
    "Python provides a set of extremely useful functions which operate on list like objects.\n",
    "\n",
    "**`filter`**\n",
    "\n",
    "The `filter` function takes a list like object and a _function_ which returns a `True` or a `False` for a given item. If the returned value if `False`, it is _filtered_ out, otherwise the value is kept:"
   ]
  },
  {
   "cell_type": "code",
   "execution_count": 19,
   "metadata": {},
   "outputs": [
    {
     "data": {
      "text/plain": [
       "[1, 2, 3, 4, 5, 6, 8, 9]"
      ]
     },
     "execution_count": 19,
     "metadata": {},
     "output_type": "execute_result"
    }
   ],
   "source": [
    "test_list = [1,2,3,4,5,6,7,8,9]\n",
    "\n",
    "def filter_func(x): return x != 7\n",
    "\n",
    "list(filter(filter_func, test_list))"
   ]
  },
  {
   "cell_type": "markdown",
   "metadata": {},
   "source": [
    "Notice that this is exactly the same as:"
   ]
  },
  {
   "cell_type": "code",
   "execution_count": 20,
   "metadata": {},
   "outputs": [
    {
     "data": {
      "text/plain": [
       "[1, 2, 3, 4, 5, 6, 8, 9]"
      ]
     },
     "execution_count": 20,
     "metadata": {},
     "output_type": "execute_result"
    }
   ],
   "source": [
    "[x for x in test_list if x != 7]"
   ]
  },
  {
   "cell_type": "markdown",
   "metadata": {},
   "source": [
    "**Exercise** Use the filter function to filter out all values greater than 7 from `test_list`, print the result"
   ]
  },
  {
   "cell_type": "markdown",
   "metadata": {},
   "source": [
    "**`map`**\n",
    "\n",
    "The map function transforms each item in the list."
   ]
  },
  {
   "cell_type": "code",
   "execution_count": 21,
   "metadata": {},
   "outputs": [
    {
     "data": {
      "text/plain": [
       "[1, 4, 9, 16, 25, 36, 49, 64, 81]"
      ]
     },
     "execution_count": 21,
     "metadata": {},
     "output_type": "execute_result"
    }
   ],
   "source": [
    "def map_func(x): return x ** 2\n",
    "\n",
    "list(map(map_func, test_list))"
   ]
  },
  {
   "cell_type": "markdown",
   "metadata": {},
   "source": [
    "The code above is exactly the same as this list comprehension:"
   ]
  },
  {
   "cell_type": "code",
   "execution_count": 25,
   "metadata": {},
   "outputs": [
    {
     "data": {
      "text/plain": [
       "[1, 4, 9, 16, 25, 36, 49, 64, 81]"
      ]
     },
     "execution_count": 25,
     "metadata": {},
     "output_type": "execute_result"
    }
   ],
   "source": [
    "[x ** 2 for x in test_list]"
   ]
  },
  {
   "cell_type": "markdown",
   "metadata": {},
   "source": [
    "**Exercise** Given the list test_list, filter it so only values below 8 are included, then return the square of each value. Please do so using the `map` and `filter` function. Preferrably do all this in a single line."
   ]
  },
  {
   "cell_type": "markdown",
   "metadata": {},
   "source": [
    "**`reduce`\n",
    "\n",
    "The reduce function takes in a list like object and (generally) returns a single value. An easy way to think of `reduce` is this:\n",
    "\n",
    "`1, 2, 3, 4, 5, 6, 7, 8, 9, 10`\n",
    "\n",
    "For each item in the list above, replace the `,` with the `+` sign. The result wil be the sum of each item in the list. This is the same as applying the `reduce` function with the add function:\n",
    "\n",
    "`1+ 2+ 3+ 4+ 5+ 6+ 7+ 8+ 9+ 10`"
   ]
  },
  {
   "cell_type": "code",
   "execution_count": 24,
   "metadata": {},
   "outputs": [],
   "source": [
    "from functools import reduce # reduce needs to be imported"
   ]
  },
  {
   "cell_type": "code",
   "execution_count": 26,
   "metadata": {},
   "outputs": [
    {
     "data": {
      "text/plain": [
       "45"
      ]
     },
     "execution_count": 26,
     "metadata": {},
     "output_type": "execute_result"
    }
   ],
   "source": [
    "reduce(add, test_list)"
   ]
  },
  {
   "cell_type": "markdown",
   "metadata": {},
   "source": [
    "#### Importance of reduce/map/filter\n",
    "\n",
    "In Python, you should generally use list comprehensions instead of `map` and `filter` functions. `reduce` is generally not used directly.\n",
    "\n",
    "However, the concept of using higher level functions which transform and filter items in a list is extremely important. The whole _hadoop_ ecosystem is built on the idea of mapping, filtering and reducing across hundreds or thousands of machines. \n",
    "\n",
    "Conceptually, notice that loops operate on a single machine. "
   ]
  },
  {
   "cell_type": "code",
   "execution_count": 29,
   "metadata": {},
   "outputs": [
    {
     "data": {
      "text/plain": [
       "45"
      ]
     },
     "execution_count": 29,
     "metadata": {},
     "output_type": "execute_result"
    }
   ],
   "source": [
    "total = 0\n",
    "for x in test_list: total += x\n",
    "total"
   ]
  },
  {
   "cell_type": "markdown",
   "metadata": {},
   "source": [
    "The code above is being extremely explicit in creating a variable and updating it one iteration at a time."
   ]
  },
  {
   "cell_type": "code",
   "execution_count": 30,
   "metadata": {},
   "outputs": [
    {
     "data": {
      "text/plain": [
       "45"
      ]
     },
     "execution_count": 30,
     "metadata": {},
     "output_type": "execute_result"
    }
   ],
   "source": [
    "reduce(add, test_list)"
   ]
  },
  {
   "cell_type": "markdown",
   "metadata": {},
   "source": [
    "The code above accomplishes the same task, but hides the detail. Engineers can change this funciton to have it execute across thousands of machines and the _interface_ of the function doesn't change! This function is more _declarative_ since the user of this functions is thinking in terms of what she _wants to accomplish_ instead of _how to accomplish_ the task."
   ]
  },
  {
   "cell_type": "markdown",
   "metadata": {},
   "source": [
    "Futher, functional programming literature shows how `map` and `filter` can be implemented in terms of `reduce`. The `reduce` function is also known as `fold` and `catamorphism` but such level of detail is far beyond the scope of this lecture.\n",
    "\n",
    "Ask the lecturer if you are interested."
   ]
  },
  {
   "cell_type": "markdown",
   "metadata": {},
   "source": [
    "### `lambda` or _anonymous_ functions\n",
    "\n",
    "![](images/y_combinator.jpg)\n",
    "\n",
    "Imagine if we had to _name_ every single variable. You couldn't just add two numbers, you had to give them names, such as `x` and `y` ... _Every_ time you used them!"
   ]
  },
  {
   "cell_type": "code",
   "execution_count": 31,
   "metadata": {},
   "outputs": [
    {
     "data": {
      "text/plain": [
       "3"
      ]
     },
     "execution_count": 31,
     "metadata": {},
     "output_type": "execute_result"
    }
   ],
   "source": [
    "add(1, 2)"
   ]
  },
  {
   "cell_type": "code",
   "execution_count": 32,
   "metadata": {},
   "outputs": [
    {
     "data": {
      "text/plain": [
       "3"
      ]
     },
     "execution_count": 32,
     "metadata": {},
     "output_type": "execute_result"
    }
   ],
   "source": [
    "x = 1\n",
    "y = 2\n",
    "\n",
    "add(x,y)"
   ]
  },
  {
   "cell_type": "markdown",
   "metadata": {},
   "source": [
    "The two snippets above are equivalent, but all of our code would look like the second snippet if we always had to name our variables.\n",
    "\n",
    "This is actually what we have been doing so far with functions! Every time we have used a function, we have given it a name. `lambda` allows us to use functions without giving them a name.\n",
    "\n",
    "Recall the `map` example from above:"
   ]
  },
  {
   "cell_type": "code",
   "execution_count": 33,
   "metadata": {},
   "outputs": [
    {
     "data": {
      "text/plain": [
       "[1, 4, 9, 16, 25, 36, 49, 64, 81]"
      ]
     },
     "execution_count": 33,
     "metadata": {},
     "output_type": "execute_result"
    }
   ],
   "source": [
    "def map_func(x): return x ** 2\n",
    "\n",
    "list(map(map_func, test_list))"
   ]
  },
  {
   "cell_type": "code",
   "execution_count": 34,
   "metadata": {},
   "outputs": [
    {
     "data": {
      "text/plain": [
       "[1, 4, 9, 16, 25, 36, 49, 64, 81]"
      ]
     },
     "execution_count": 34,
     "metadata": {},
     "output_type": "execute_result"
    }
   ],
   "source": [
    "list(map(   lambda x: x ** 2     , test_list))"
   ]
  },
  {
   "cell_type": "markdown",
   "metadata": {},
   "source": [
    "In other words, the these two functions are exactly the same:"
   ]
  },
  {
   "cell_type": "code",
   "execution_count": 36,
   "metadata": {},
   "outputs": [],
   "source": [
    "def map_func(x): return x ** 2\n",
    "map_func       = lambda x: x ** 2"
   ]
  },
  {
   "cell_type": "markdown",
   "metadata": {},
   "source": [
    "The name `lambda` comes from lambda calculus, a branch of math invented by Alonzo Church in 1930. I believe Python should have used the keyword `fun` instead of `lambda`, so the above expression could have been written as `fun x: x ** 2`. Unfortunately, we are stuck with `lambda`. \n",
    "\n",
    "`lambda` functions don't need a return statement, since it is expected that the last value will be returned as the output of the function."
   ]
  },
  {
   "cell_type": "markdown",
   "metadata": {},
   "source": [
    "**Exercise** Use the `filter` and `lambda` functions to filter out all values greater than 7 from `test_list`"
   ]
  },
  {
   "cell_type": "markdown",
   "metadata": {},
   "source": [
    "#### Calling `lambda` like a normal function\n",
    "\n",
    "`lambda` is just a normal function without a name:"
   ]
  },
  {
   "cell_type": "code",
   "execution_count": 43,
   "metadata": {},
   "outputs": [],
   "source": [
    "subtract = lambda x, y: x - y"
   ]
  },
  {
   "cell_type": "code",
   "execution_count": 44,
   "metadata": {},
   "outputs": [
    {
     "data": {
      "text/plain": [
       "5"
      ]
     },
     "execution_count": 44,
     "metadata": {},
     "output_type": "execute_result"
    }
   ],
   "source": [
    "subtract(10, 5)"
   ]
  },
  {
   "cell_type": "code",
   "execution_count": 45,
   "metadata": {},
   "outputs": [
    {
     "data": {
      "text/plain": [
       "5"
      ]
     },
     "execution_count": 45,
     "metadata": {},
     "output_type": "execute_result"
    }
   ],
   "source": [
    "(lambda x, y: x - y)(10, 5)"
   ]
  },
  {
   "cell_type": "markdown",
   "metadata": {},
   "source": [
    "### Return functions from functions\n",
    "\n",
    "The trend in this lecture has been to stop thinking of functions as special constructs and realize that they are just like numbers, strings or any other object. They can be assigned to variables, passed in to functions and returned from functions:"
   ]
  },
  {
   "cell_type": "code",
   "execution_count": 46,
   "metadata": {},
   "outputs": [],
   "source": [
    "def add_arg(arg):\n",
    "    return lambda y: arg + y"
   ]
  },
  {
   "cell_type": "code",
   "execution_count": 48,
   "metadata": {},
   "outputs": [],
   "source": [
    "add_10 = add_arg(10)"
   ]
  },
  {
   "cell_type": "code",
   "execution_count": 49,
   "metadata": {},
   "outputs": [
    {
     "data": {
      "text/plain": [
       "15"
      ]
     },
     "execution_count": 49,
     "metadata": {},
     "output_type": "execute_result"
    }
   ],
   "source": [
    "add_10(5)"
   ]
  },
  {
   "cell_type": "markdown",
   "metadata": {},
   "source": [
    "### `lambda` functions in lists and dictionaries\n",
    "\n",
    "To further persuade you that `lambda` functions are like any other value, let's see what happens when we put them in data structures\n",
    "\n",
    "**Dictionaries**"
   ]
  },
  {
   "cell_type": "code",
   "execution_count": 50,
   "metadata": {},
   "outputs": [],
   "source": [
    "func_dist = dict()\n",
    "func_dist['add'] = lambda x, y: x + y\n",
    "func_dist['sub'] = lambda x, y: x + y\n",
    "func_dist['split'] = lambda x: x.split(\" \")"
   ]
  },
  {
   "cell_type": "code",
   "execution_count": 51,
   "metadata": {},
   "outputs": [
    {
     "data": {
      "text/plain": [
       "6"
      ]
     },
     "execution_count": 51,
     "metadata": {},
     "output_type": "execute_result"
    }
   ],
   "source": [
    "func_dist['add'](2,4)"
   ]
  },
  {
   "cell_type": "code",
   "execution_count": 52,
   "metadata": {},
   "outputs": [
    {
     "data": {
      "text/plain": [
       "12"
      ]
     },
     "execution_count": 52,
     "metadata": {},
     "output_type": "execute_result"
    }
   ],
   "source": [
    "func_dist['sub'](10, 2)"
   ]
  },
  {
   "cell_type": "code",
   "execution_count": 53,
   "metadata": {},
   "outputs": [
    {
     "data": {
      "text/plain": [
       "['hello', 'world']"
      ]
     },
     "execution_count": 53,
     "metadata": {},
     "output_type": "execute_result"
    }
   ],
   "source": [
    "func_dist['split'](\"hello world\")"
   ]
  },
  {
   "cell_type": "markdown",
   "metadata": {},
   "source": [
    "**Exercise** Add functionality to `func_dist` where the key 'power' executes the `pow` function\n",
    "\n",
    "You are unlikely to use functions stored in dictionaries. However, this is the kind of thing which is done by programming language interpreters."
   ]
  },
  {
   "cell_type": "markdown",
   "metadata": {},
   "source": [
    "**Lists**\n",
    "\n",
    "Unlike functions inside dictionaires, functions inside lists can be very useful for data scientists.\n",
    "\n",
    "Let's create a _pipeline_ of transformations to clean up a list of names:"
   ]
  },
  {
   "cell_type": "code",
   "execution_count": 66,
   "metadata": {},
   "outputs": [],
   "source": [
    "names = [\"Homer\\n\", \"lisa \", \"mArge\", \"Mr. Burns\", \"Barney\", \"Mrs, Krabappel\"]"
   ]
  },
  {
   "cell_type": "code",
   "execution_count": 75,
   "metadata": {},
   "outputs": [],
   "source": [
    "transformation_pipe = [\n",
    "    lambda x: x.lower() # make all characters lower case\n",
    "    , lambda x: x.strip() # remove useless characters\n",
    "    , lambda x: x.replace(',','.') # fix typos\n",
    "    , lambda x: x.capitalize() # dont' lower case _everything_\n",
    "]"
   ]
  },
  {
   "cell_type": "code",
   "execution_count": 76,
   "metadata": {},
   "outputs": [
    {
     "data": {
      "text/plain": [
       "['Homer', 'Lisa', 'Marge', 'Mr. burns', 'Barney', 'Mrs. krabappel']"
      ]
     },
     "execution_count": 76,
     "metadata": {},
     "output_type": "execute_result"
    }
   ],
   "source": [
    "transformed_names = list()\n",
    "\n",
    "for name in names: # go through the names\n",
    "    cleaned_name = name\n",
    "    \n",
    "    for t in transformation_pipe: # go through the transformations for each name\n",
    "        cleaned_name = t(cleaned_name)\n",
    "        \n",
    "    transformed_names.append(cleaned_name)\n",
    "    \n",
    "transformed_names"
   ]
  },
  {
   "cell_type": "markdown",
   "metadata": {},
   "source": [
    "### Reference:\n",
    "Lambda calculus tattoo from http://matt.might.net/articles/compiling-up-to-lambda-calculus/"
   ]
  },
  {
   "cell_type": "code",
   "execution_count": null,
   "metadata": {},
   "outputs": [],
   "source": []
  }
 ],
 "metadata": {
  "kernelspec": {
   "display_name": "Python 3",
   "language": "python",
   "name": "python3"
  },
  "language_info": {
   "codemirror_mode": {
    "name": "ipython",
    "version": 3
   },
   "file_extension": ".py",
   "mimetype": "text/x-python",
   "name": "python",
   "nbconvert_exporter": "python",
   "pygments_lexer": "ipython3",
   "version": "3.7.3"
  }
 },
 "nbformat": 4,
 "nbformat_minor": 2
}
