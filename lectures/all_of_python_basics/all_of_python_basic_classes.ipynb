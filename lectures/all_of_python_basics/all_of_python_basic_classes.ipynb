{
 "cells": [
  {
   "cell_type": "markdown",
   "metadata": {},
   "source": [
    "# Classes and object oriented programming\n",
    "\n",
    "Several times you have seen the notation something.somefunction(). We will explore this syntax here. Since the first lecture, we have been studying two categories of programming constructs: things and stuff you can do to those things.\n",
    "\n",
    "We have seen numbers and the arithmetic operations which can be done on those numbers. Strings and the various functions which operate on them. Lists, dictionaries, tuples, charts, random distributions and functions which can be used on them. Nouns and verbs.\n",
    "\n",
    "You can write your own version of the max or min functions, but how do you write your own list or dictionary? Recall that once you insert an item into a list or a dictionary, it remembers! At a later time, you can ask for that inserted value back.\n",
    "\n",
    "#### Classes\n",
    "Classes combine nouns and verbs into a single programming construct. Here is an example of a class:"
   ]
  },
  {
   "cell_type": "code",
   "execution_count": 17,
   "metadata": {},
   "outputs": [],
   "source": [
    "class CheckMarks():\n",
    "    \n",
    "    def __init__(self, initial_value):\n",
    "        self.flag = initial_value\n",
    "    \n",
    "    def get_value(self):\n",
    "        return self.flag\n",
    "    \n",
    "    def set_value(self, new_value):\n",
    "        self.flag = new_value"
   ]
  },
  {
   "cell_type": "code",
   "execution_count": 18,
   "metadata": {},
   "outputs": [],
   "source": [
    "cm1 = CheckMarks(10)"
   ]
  },
  {
   "cell_type": "code",
   "execution_count": 19,
   "metadata": {},
   "outputs": [
    {
     "data": {
      "text/plain": [
       "10"
      ]
     },
     "execution_count": 19,
     "metadata": {},
     "output_type": "execute_result"
    }
   ],
   "source": [
    "cm1.get_value()"
   ]
  },
  {
   "cell_type": "code",
   "execution_count": 20,
   "metadata": {},
   "outputs": [],
   "source": [
    "cm1.set_value(32)"
   ]
  },
  {
   "cell_type": "code",
   "execution_count": 21,
   "metadata": {},
   "outputs": [
    {
     "data": {
      "text/plain": [
       "32"
      ]
     },
     "execution_count": 21,
     "metadata": {},
     "output_type": "execute_result"
    }
   ],
   "source": [
    "cm1.get_value()"
   ]
  },
  {
   "cell_type": "code",
   "execution_count": 22,
   "metadata": {},
   "outputs": [],
   "source": [
    "cm2 = CheckMarks(20)"
   ]
  },
  {
   "cell_type": "code",
   "execution_count": 23,
   "metadata": {},
   "outputs": [
    {
     "data": {
      "text/plain": [
       "(32, 20)"
      ]
     },
     "execution_count": 23,
     "metadata": {},
     "output_type": "execute_result"
    }
   ],
   "source": [
    "cm1.get_value(), cm2.get_value()"
   ]
  },
  {
   "cell_type": "markdown",
   "metadata": {},
   "source": [
    "#### Classes turn into objects\n",
    "\n",
    "CheckMarks is a _class_. It has _methods_ `get_value` and `set_value`. The `__init__` method is a special method called a _constructor_. When `CheckMarks(10)` is called, the arguments are passed to \\_\\_init\\_\\_().\n",
    "\n",
    "Notice that we created cm1 and cm2 from the same class. One was _instantiated_ with value 10 and another with value 20. cm1 and cm2 are two objects. When a class is instantiated, an object is created. "
   ]
  },
  {
   "cell_type": "markdown",
   "metadata": {},
   "source": [
    "**Exercise** Create a hundred instances of the object CheckMarks, insert into a list and set values equal to the index of the object (so the first value will be 0, the second will be 1, the third will be 2, etc.)"
   ]
  }
 ],
 "metadata": {
  "kernelspec": {
   "display_name": "Python 3",
   "language": "python",
   "name": "python3"
  },
  "language_info": {
   "codemirror_mode": {
    "name": "ipython",
    "version": 3
   },
   "file_extension": ".py",
   "mimetype": "text/x-python",
   "name": "python",
   "nbconvert_exporter": "python",
   "pygments_lexer": "ipython3",
   "version": "3.6.9"
  }
 },
 "nbformat": 4,
 "nbformat_minor": 2
}
