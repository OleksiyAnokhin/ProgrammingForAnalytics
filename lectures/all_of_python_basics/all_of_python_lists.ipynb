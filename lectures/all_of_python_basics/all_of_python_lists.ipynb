{
 "cells": [
  {
   "cell_type": "markdown",
   "metadata": {},
   "source": [
    "# Lists\n",
    "\n",
    "Lists are one of the most important data structures in Python - in fact, all of computer science.\n",
    "\n",
    "### Creating lists\n",
    "\n",
    "Like dictionaries, lists can be created fully formed, or empty, to be populated during the execution of the program."
   ]
  },
  {
   "cell_type": "code",
   "execution_count": 2,
   "metadata": {},
   "outputs": [
    {
     "data": {
      "text/plain": [
       "['Michigan', 'New York', 'New Jersey']"
      ]
     },
     "execution_count": 2,
     "metadata": {},
     "output_type": "execute_result"
    }
   ],
   "source": [
    "us_states = [\"Michigan\", \"New York\", \"New Jersey\"]\n",
    "us_states"
   ]
  },
  {
   "cell_type": "code",
   "execution_count": 8,
   "metadata": {},
   "outputs": [
    {
     "data": {
      "text/plain": [
       "['Michigan', 'New York', 'New Jersey', 'Utah', 'California', 'Texas']"
      ]
     },
     "execution_count": 8,
     "metadata": {},
     "output_type": "execute_result"
    }
   ],
   "source": [
    "us_states = []\n",
    "\n",
    "us_states.append(\"Michigan\")\n",
    "us_states.append(\"New York\")\n",
    "us_states.append(\"New Jersey\")\n",
    "us_states.append(\"Utah\")\n",
    "us_states.append(\"California\")\n",
    "us_states.append(\"Texas\")\n",
    "\n",
    "us_states"
   ]
  },
  {
   "cell_type": "code",
   "execution_count": 9,
   "metadata": {},
   "outputs": [
    {
     "data": {
      "text/plain": [
       "['Michigan', 'New York', 'New Jersey', 'Utah', 'California', 'Texas']"
      ]
     },
     "execution_count": 9,
     "metadata": {},
     "output_type": "execute_result"
    }
   ],
   "source": [
    "us_states = list()\n",
    "\n",
    "us_states.append(\"Michigan\")\n",
    "us_states.append(\"New York\")\n",
    "us_states.append(\"New Jersey\")\n",
    "us_states.append(\"Utah\")\n",
    "us_states.append(\"California\")\n",
    "us_states.append(\"Texas\")\n",
    "\n",
    "us_states"
   ]
  },
  {
   "cell_type": "markdown",
   "metadata": {},
   "source": [
    "**Exercise** If you need to create an emptpy list, which method do you prefer: `list` or `[]`?\n",
    "\n",
    "### Accessing items in a list\n",
    "The most common method of accessing items in a list is via the index syntax:"
   ]
  },
  {
   "cell_type": "code",
   "execution_count": 10,
   "metadata": {},
   "outputs": [
    {
     "data": {
      "text/plain": [
       "'Michigan'"
      ]
     },
     "execution_count": 10,
     "metadata": {},
     "output_type": "execute_result"
    }
   ],
   "source": [
    "us_states[0]"
   ]
  },
  {
   "cell_type": "code",
   "execution_count": 11,
   "metadata": {},
   "outputs": [
    {
     "data": {
      "text/plain": [
       "'Texas'"
      ]
     },
     "execution_count": 11,
     "metadata": {},
     "output_type": "execute_result"
    }
   ],
   "source": [
    "us_states[-1]"
   ]
  },
  {
   "cell_type": "code",
   "execution_count": 12,
   "metadata": {},
   "outputs": [
    {
     "data": {
      "text/plain": [
       "'California'"
      ]
     },
     "execution_count": 12,
     "metadata": {},
     "output_type": "execute_result"
    }
   ],
   "source": [
    "us_states[-2]"
   ]
  },
  {
   "cell_type": "markdown",
   "metadata": {},
   "source": [
    "### Checking for membership using the `in` operator\n",
    "\n",
    "Much like dictionaries, lists work with the `in` operator to check for membership:"
   ]
  },
  {
   "cell_type": "code",
   "execution_count": 67,
   "metadata": {},
   "outputs": [
    {
     "data": {
      "text/plain": [
       "True"
      ]
     },
     "execution_count": 67,
     "metadata": {},
     "output_type": "execute_result"
    }
   ],
   "source": [
    "\"IL\" in [\"IL\", \"MI\", \"WI\", \"NY\", \"NJ\"]"
   ]
  },
  {
   "cell_type": "code",
   "execution_count": 68,
   "metadata": {},
   "outputs": [
    {
     "data": {
      "text/plain": [
       "False"
      ]
     },
     "execution_count": 68,
     "metadata": {},
     "output_type": "execute_result"
    }
   ],
   "source": [
    "\"UT\" in [\"IL\", \"MI\", \"WI\", \"NY\", \"NJ\"]"
   ]
  },
  {
   "cell_type": "markdown",
   "metadata": {},
   "source": [
    "### Removing items from a list\n",
    "\n",
    "Many programmers can go quite far in their programming career, without having to _remove_ an item from a list. Python does provide three methods of removing items:\n",
    "* del array[index]\n",
    "* list.remove(element)\n",
    "* list.pop() \n",
    "\n",
    "Example of _.remove(element_value_to_remove)_"
   ]
  },
  {
   "cell_type": "code",
   "execution_count": 57,
   "metadata": {},
   "outputs": [
    {
     "data": {
      "text/plain": [
       "['homer', 'marge', 'lisa']"
      ]
     },
     "execution_count": 57,
     "metadata": {},
     "output_type": "execute_result"
    }
   ],
   "source": [
    "names = ['homer', 'marge', 'bart', 'lisa']\n",
    "names.remove('bart')\n",
    "names"
   ]
  },
  {
   "cell_type": "markdown",
   "metadata": {},
   "source": [
    "Removing item at a specific location (remember that python lists are zero based):"
   ]
  },
  {
   "cell_type": "code",
   "execution_count": 60,
   "metadata": {},
   "outputs": [
    {
     "data": {
      "text/plain": [
       "['homer', 'marge', 'lisa']"
      ]
     },
     "execution_count": 60,
     "metadata": {},
     "output_type": "execute_result"
    }
   ],
   "source": [
    "names = ['homer', 'marge', 'bart', 'lisa']\n",
    "del names[2]\n",
    "names"
   ]
  },
  {
   "cell_type": "markdown",
   "metadata": {},
   "source": [
    "Pop the last item from the list:"
   ]
  },
  {
   "cell_type": "code",
   "execution_count": 61,
   "metadata": {},
   "outputs": [
    {
     "data": {
      "text/plain": [
       "['homer', 'marge', 'bart']"
      ]
     },
     "execution_count": 61,
     "metadata": {},
     "output_type": "execute_result"
    }
   ],
   "source": [
    "names = ['homer', 'marge', 'bart', 'lisa']\n",
    "names.pop()\n",
    "names"
   ]
  },
  {
   "cell_type": "markdown",
   "metadata": {},
   "source": [
    "**WARNING** Be very careful about removing items _during_ an interation. Seriously "
   ]
  },
  {
   "cell_type": "markdown",
   "metadata": {},
   "source": [
    "#### Common methods used on lists"
   ]
  },
  {
   "cell_type": "code",
   "execution_count": 13,
   "metadata": {},
   "outputs": [],
   "source": [
    "list_of_nums = [1,2,3,4,5,6,7,8,9]"
   ]
  },
  {
   "cell_type": "code",
   "execution_count": 16,
   "metadata": {},
   "outputs": [
    {
     "data": {
      "text/plain": [
       "9"
      ]
     },
     "execution_count": 16,
     "metadata": {},
     "output_type": "execute_result"
    }
   ],
   "source": [
    "max(list_of_nums) # maximum item in the list"
   ]
  },
  {
   "cell_type": "code",
   "execution_count": 17,
   "metadata": {},
   "outputs": [
    {
     "data": {
      "text/plain": [
       "1"
      ]
     },
     "execution_count": 17,
     "metadata": {},
     "output_type": "execute_result"
    }
   ],
   "source": [
    "min(list_of_nums) # minimum item in the list"
   ]
  },
  {
   "cell_type": "code",
   "execution_count": 18,
   "metadata": {},
   "outputs": [
    {
     "data": {
      "text/plain": [
       "9"
      ]
     },
     "execution_count": 18,
     "metadata": {},
     "output_type": "execute_result"
    }
   ],
   "source": [
    "len(list_of_nums) # length of the list"
   ]
  },
  {
   "cell_type": "markdown",
   "metadata": {},
   "source": [
    "You will often enoucnter lists of boolean values, very common in numpy and pandas code (to be seen in later lectures)"
   ]
  },
  {
   "cell_type": "markdown",
   "metadata": {},
   "source": [
    "How many true values in a list?"
   ]
  },
  {
   "cell_type": "code",
   "execution_count": 23,
   "metadata": {},
   "outputs": [],
   "source": [
    "one_true = [False, False, True, False]\n",
    "zero_true = [False, False, False, False]\n",
    "one_false = [True, False, True, True]\n",
    "zero_false = [True, True, True, True]"
   ]
  },
  {
   "cell_type": "code",
   "execution_count": 28,
   "metadata": {},
   "outputs": [
    {
     "name": "stdout",
     "output_type": "stream",
     "text": [
      "True\n",
      "False\n",
      "True\n",
      "True\n"
     ]
    }
   ],
   "source": [
    "print(any(one_true)) #are any of the elements true?\n",
    "print(any(zero_true)) #are any of the elements true?\n",
    "print(any(one_false)) #are any of the elements true?\n",
    "print(any(zero_false)) #are any of the elements true?"
   ]
  },
  {
   "cell_type": "code",
   "execution_count": 27,
   "metadata": {},
   "outputs": [
    {
     "name": "stdout",
     "output_type": "stream",
     "text": [
      "False\n",
      "False\n",
      "False\n",
      "True\n"
     ]
    }
   ],
   "source": [
    "print(all(one_true)) #are all of the elements true?\n",
    "print(all(zero_true)) #are all of the elements true?\n",
    "print(all(one_false)) #are all of the elements true?\n",
    "print(all(zero_false)) #are all of the elements true?"
   ]
  },
  {
   "cell_type": "markdown",
   "metadata": {},
   "source": [
    "Reverse a list"
   ]
  },
  {
   "cell_type": "code",
   "execution_count": 30,
   "metadata": {},
   "outputs": [
    {
     "data": {
      "text/plain": [
       "[9, 8, 7, 6, 5, 4, 3, 2, 1]"
      ]
     },
     "execution_count": 30,
     "metadata": {},
     "output_type": "execute_result"
    }
   ],
   "source": [
    "list(reversed([1,2,3,4,5,6,7,8,9]))"
   ]
  },
  {
   "cell_type": "markdown",
   "metadata": {},
   "source": [
    "Sort a list"
   ]
  },
  {
   "cell_type": "code",
   "execution_count": 31,
   "metadata": {},
   "outputs": [
    {
     "data": {
      "text/plain": [
       "[2, 2, 3, 4, 4, 5, 6, 7, 7, 34]"
      ]
     },
     "execution_count": 31,
     "metadata": {},
     "output_type": "execute_result"
    }
   ],
   "source": [
    "sorted([3,6,2,4,7,2,5,34,7,4])"
   ]
  },
  {
   "cell_type": "markdown",
   "metadata": {},
   "source": [
    "Combine two lists"
   ]
  },
  {
   "cell_type": "code",
   "execution_count": 33,
   "metadata": {},
   "outputs": [
    {
     "data": {
      "text/plain": [
       "[('marge', 'simpson'), ('ned', 'flanders'), ('barney', 'gumble')]"
      ]
     },
     "execution_count": 33,
     "metadata": {},
     "output_type": "execute_result"
    }
   ],
   "source": [
    "first_names = [\"marge\", \"ned\", \"barney\"]\n",
    "last_names = [\"simpson\", \"flanders\", \"gumble\"]\n",
    "\n",
    "list(zip(first_names, last_names))"
   ]
  },
  {
   "cell_type": "markdown",
   "metadata": {},
   "source": [
    "**Exercise** Write a function which accepts two lists and returns a dictionary. Recall that `assert` statements below will test the quality of your function"
   ]
  },
  {
   "cell_type": "code",
   "execution_count": 66,
   "metadata": {},
   "outputs": [],
   "source": [
    "tmp_names = [\"homer\", \"marge\", \"bart\", \"lisa\"]\n",
    "tmp_ages  = [38, 36, 10, 8]\n"
   ]
  },
  {
   "cell_type": "code",
   "execution_count": 65,
   "metadata": {},
   "outputs": [],
   "source": [
    "assert list2dict(tmp_names, tmp_ages)['homer'] == 38\n",
    "assert list2dict(tmp_names, tmp_ages)['marge'] == 36\n",
    "assert list2dict(tmp_names, tmp_ages)['bart'] == 10"
   ]
  },
  {
   "cell_type": "markdown",
   "metadata": {},
   "source": [
    "Create a dictionary out of this list of tuples:"
   ]
  },
  {
   "cell_type": "code",
   "execution_count": 34,
   "metadata": {},
   "outputs": [
    {
     "data": {
      "text/plain": [
       "{'marge': 'simpson', 'ned': 'flanders', 'barney': 'gumble'}"
      ]
     },
     "execution_count": 34,
     "metadata": {},
     "output_type": "execute_result"
    }
   ],
   "source": [
    "dict(list(zip(first_names, last_names)))"
   ]
  },
  {
   "cell_type": "markdown",
   "metadata": {},
   "source": [
    "### Interesting slicing tricks"
   ]
  },
  {
   "cell_type": "markdown",
   "metadata": {},
   "source": [
    "You have already simple slice usage:"
   ]
  },
  {
   "cell_type": "code",
   "execution_count": 35,
   "metadata": {},
   "outputs": [],
   "source": [
    "us_states = ['Michigan', 'New York', 'New Jersey', 'Utah', 'California', 'Texas']"
   ]
  },
  {
   "cell_type": "code",
   "execution_count": 38,
   "metadata": {},
   "outputs": [
    {
     "data": {
      "text/plain": [
       "['Michigan', 'New York']"
      ]
     },
     "execution_count": 38,
     "metadata": {},
     "output_type": "execute_result"
    }
   ],
   "source": [
    "us_states[0:2] # Get first two items"
   ]
  },
  {
   "cell_type": "markdown",
   "metadata": {},
   "source": [
    "**Exercise** Get the last two values in array `us_states`"
   ]
  },
  {
   "cell_type": "markdown",
   "metadata": {},
   "source": [
    "Pair off values in a list"
   ]
  },
  {
   "cell_type": "code",
   "execution_count": 40,
   "metadata": {},
   "outputs": [
    {
     "data": {
      "text/plain": [
       "[('Michigan', 'New York'),\n",
       " ('New York', 'New Jersey'),\n",
       " ('New Jersey', 'Utah'),\n",
       " ('Utah', 'California'),\n",
       " ('California', 'Texas')]"
      ]
     },
     "execution_count": 40,
     "metadata": {},
     "output_type": "execute_result"
    }
   ],
   "source": [
    "list(zip(us_states, us_states[1:]))"
   ]
  },
  {
   "cell_type": "markdown",
   "metadata": {},
   "source": [
    "**Exercise** How does the code above work?"
   ]
  },
  {
   "cell_type": "markdown",
   "metadata": {},
   "source": [
    "### For loops"
   ]
  },
  {
   "cell_type": "code",
   "execution_count": 46,
   "metadata": {},
   "outputs": [
    {
     "name": "stdout",
     "output_type": "stream",
     "text": [
      "michigan\n",
      "new york\n",
      "new jersey\n",
      "utah\n",
      "california\n",
      "texas\n"
     ]
    }
   ],
   "source": [
    "us_states_small = [\"michigan\", \"new york\", \"new jersey\", \"utah\", \"california\", \"texas\"]\n",
    "for state in us_states_small:\n",
    "    print(state)"
   ]
  },
  {
   "cell_type": "code",
   "execution_count": 47,
   "metadata": {},
   "outputs": [
    {
     "name": "stdout",
     "output_type": "stream",
     "text": [
      "Michigan is a beautiful state\n",
      "New york is a beautiful state\n",
      "New jersey is a beautiful state\n",
      "Utah is a beautiful state\n",
      "California is a beautiful state\n",
      "Texas is a beautiful state\n"
     ]
    }
   ],
   "source": [
    "for state in us_states_small:\n",
    "    print(state.capitalize(), \"is a beautiful state\")"
   ]
  },
  {
   "cell_type": "code",
   "execution_count": 48,
   "metadata": {},
   "outputs": [
    {
     "name": "stdout",
     "output_type": "stream",
     "text": [
      "Michigan is in the north\n",
      "New york is in the north\n",
      "New jersey is in the north\n",
      "Utah is in the north\n",
      "California is in the north\n"
     ]
    }
   ],
   "source": [
    "for state in us_states_small:\n",
    "    if(state != \"texas\"):\n",
    "      print(state.capitalize(), \"is in the north\")"
   ]
  },
  {
   "cell_type": "markdown",
   "metadata": {},
   "source": [
    "**Exercise** Show all states which begin with the letter \"n\" or \"N\""
   ]
  },
  {
   "cell_type": "markdown",
   "metadata": {},
   "source": [
    "#### Using enumerate to access the index of an element\n",
    "\n",
    "There are times when you need to know the index of an element in a list. If asked to iterate over only the first three states, by now, you should know that you can do this:"
   ]
  },
  {
   "cell_type": "code",
   "execution_count": 49,
   "metadata": {},
   "outputs": [
    {
     "name": "stdout",
     "output_type": "stream",
     "text": [
      "michigan\n",
      "new york\n",
      "new jersey\n"
     ]
    }
   ],
   "source": [
    "for state in us_states_small[:3]: print (state)"
   ]
  },
  {
   "cell_type": "markdown",
   "metadata": {},
   "source": [
    "Python provides another way, to surround the list with `enumerate` (note that enumerate returns a `tuple` of an index value and an item from the list being iterated):"
   ]
  },
  {
   "cell_type": "code",
   "execution_count": 51,
   "metadata": {},
   "outputs": [
    {
     "name": "stdout",
     "output_type": "stream",
     "text": [
      "0 michigan\n",
      "1 new york\n",
      "2 new jersey\n"
     ]
    }
   ],
   "source": [
    "for index, state in enumerate(us_states_small): \n",
    "    if index < 3:\n",
    "        print(index, state)"
   ]
  },
  {
   "cell_type": "markdown",
   "metadata": {},
   "source": [
    "### Nested for loops\n",
    "For loops can be nested. Keep in mind that the inner loop will run fully, for each item in the out loop:"
   ]
  },
  {
   "cell_type": "code",
   "execution_count": 53,
   "metadata": {},
   "outputs": [
    {
     "name": "stdout",
     "output_type": "stream",
     "text": [
      "red sedan\n",
      "red suv\n",
      "red van\n",
      "black sedan\n",
      "black suv\n",
      "black van\n",
      "white sedan\n",
      "white suv\n",
      "white van\n",
      "blue sedan\n",
      "blue suv\n",
      "blue van\n"
     ]
    }
   ],
   "source": [
    "for color in ['red', 'black', 'white', 'blue']:\n",
    "    for car_type in ['sedan', 'suv', 'van']:\n",
    "        print(color, car_type)"
   ]
  }
 ],
 "metadata": {
  "kernelspec": {
   "display_name": "Python 3",
   "language": "python",
   "name": "python3"
  },
  "language_info": {
   "codemirror_mode": {
    "name": "ipython",
    "version": 3
   },
   "file_extension": ".py",
   "mimetype": "text/x-python",
   "name": "python",
   "nbconvert_exporter": "python",
   "pygments_lexer": "ipython3",
   "version": "3.6.9"
  }
 },
 "nbformat": 4,
 "nbformat_minor": 2
}
