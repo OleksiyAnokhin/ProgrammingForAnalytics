{
 "cells": [
  {
   "cell_type": "markdown",
   "metadata": {},
   "source": [
    "# The Gradient Descent algorithm"
   ]
  },
  {
   "cell_type": "markdown",
   "metadata": {},
   "source": [
    "We will use our knowledge of python programming to build a set of _metaheuristic_ solvers. We will start with very simple examples and work our way up to the Gradient Descent algorithm. This algorithm is very widely used in data science, including in the field of deep learning.\n",
    "\n",
    "A very gentle and readable introduction to this and other interesting algorithms can be found in the book \"Essentials of Metaheuristics,\" available for free at: https://cs.gmu.edu/~sean/book/metaheuristics/"
   ]
  },
  {
   "cell_type": "markdown",
   "metadata": {},
   "source": [
    "## Random Guessing\n",
    "\n",
    "In an earlier lecture, we wrote some code to solve the equation `250 = 5 * x`. Although it wasn't made explicit in that example, the variable `x` can only take on integer values. We found that setting `x` equal to 50 gets us the answer we need. In that scenario, we knew that there _was_ an exact answer.\n",
    "\n",
    "Let's change the problem slightly: `251 = 5 * x`. Now there is no exact integer answer. We have to estimate an answer with as low an error as possible. The basic idea is this: we will try random integers (within some range), we will remember the values which get us the best results and ignore the ones which get us results worse than what we already have.\n",
    "\n",
    "_Side note_ :  If you are wondering why we are doing a random search, instead of starting with a low value and incrementing up until we hit the correct value, you are correct that other than high school algebra, that method will be much better than random guessing. However, this problem is supposed to simulate a scenario where we can't assume such simple solutions. Besides, we need to practice certain aspects of this algorithm, before we can progress other more complex algos.\n",
    "\n",
    "Very informal pseudo code:\n",
    "```ruby\n",
    "try a guess for x in equation 250 = 5 * x\n",
    "if guess is better than the preivously recorded guess, store this guess\n",
    "keep going until the error is small enough or the guessing game has run long enough\n",
    "```"
   ]
  },
  {
   "cell_type": "markdown",
   "metadata": {},
   "source": [
    "**Exercise** Just looking at the equation, what is the correct value for `x`? What is the best possible error - difference between what we want (251) and what we can expect?"
   ]
  },
  {
   "cell_type": "code",
   "execution_count": 1,
   "metadata": {},
   "outputs": [],
   "source": [
    "import random"
   ]
  },
  {
   "cell_type": "code",
   "execution_count": 9,
   "metadata": {},
   "outputs": [
    {
     "data": {
      "text/plain": [
       "(50, 1)"
      ]
     },
     "execution_count": 9,
     "metadata": {},
     "output_type": "execute_result"
    }
   ],
   "source": [
    "num_of_guesses = 1000\n",
    "min_guess = 0\n",
    "max_guess = 1000\n",
    "\n",
    "best_guess = None\n",
    "best_error = None\n",
    "\n",
    "for guess in [random.randint(min_guess, max_guess) for _ in range(num_of_guesses)]:\n",
    "  result = 5 * guess\n",
    "  error = abs(251 - result)\n",
    "\n",
    "  if best_guess is None or error < best_error:\n",
    "    best_guess = guess\n",
    "    best_error = error\n",
    "\n",
    "best_guess, best_error"
   ]
  },
  {
   "cell_type": "markdown",
   "metadata": {},
   "source": [
    "**Exercise** Do you understand what the expression `[random.randint(min_guess, max_guess) for _ in range(num_of_guesses)]` is doing? If not, please ask. How does the code change if we had to use loops instead of this list comprehension?\n",
    "\n",
    "**Exercise** Do you understand what the expression `best_guess is None or error < best_error:` is doing? If `best_guess` is None, is the remaining expression `error < best_error` still evaluated?\n",
    "\n",
    "**Exercise** Turn this into a function `random_search(num_of_guesses, min_guess, max_guess)`. This function should return a single number, our best guess for the expression `251 = 5 * x`."
   ]
  },
  {
   "cell_type": "code",
   "execution_count": null,
   "metadata": {},
   "outputs": [],
   "source": []
  }
 ],
 "metadata": {
  "kernelspec": {
   "display_name": "Python 3",
   "language": "python",
   "name": "python3"
  },
  "language_info": {
   "codemirror_mode": {
    "name": "ipython",
    "version": 3
   },
   "file_extension": ".py",
   "mimetype": "text/x-python",
   "name": "python",
   "nbconvert_exporter": "python",
   "pygments_lexer": "ipython3",
   "version": "3.6.9"
  }
 },
 "nbformat": 4,
 "nbformat_minor": 2
}
