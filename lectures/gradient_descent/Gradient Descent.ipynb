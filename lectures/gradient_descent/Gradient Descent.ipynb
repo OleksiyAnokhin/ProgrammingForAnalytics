{
 "cells": [
  {
   "cell_type": "markdown",
   "metadata": {},
   "source": [
    "# The Gradient Descent algorithm"
   ]
  },
  {
   "cell_type": "markdown",
   "metadata": {},
   "source": [
    "We will use our knowledge of python programming to build a set of _metaheuristic_ solvers. We will start with very simple examples and work our way up to the Gradient Descent algorithm. This algorithm is very widely used in data science, including in the field of deep learning.\n",
    "\n",
    "A very gentle and readable introduction to this and other interesting algorithms can be found in the book \"Essentials of Metaheuristics,\" available for free at: https://cs.gmu.edu/~sean/book/metaheuristics/"
   ]
  },
  {
   "cell_type": "code",
   "execution_count": 13,
   "metadata": {},
   "outputs": [],
   "source": [
    "import pandas as pd\n",
    "import matplotlib.pyplot as plt\n",
    "import seaborn as sns\n",
    "\n",
    "sns.set(style=\"darkgrid\")"
   ]
  },
  {
   "cell_type": "markdown",
   "metadata": {},
   "source": [
    "## Random Guessing\n",
    "\n",
    "#### Try all values in order to find exact answer\n",
    "In an earlier lecture, we wrote some code to **solve the equation** `250 = 5 * x`. Although it wasn't made explicit in that example, the variable `x` can only take on integer values. We found that setting `x` equal to 50 gets us the answer we need. In that scenario, we knew that there _was_ an exact answer.\n",
    "\n",
    "```python\n",
    "for guess in range(250):\n",
    "    if 5 * guess == 250:\n",
    "        print(\"x = \", guess)\n",
    "        break\n",
    "```"
   ]
  },
  {
   "cell_type": "code",
   "execution_count": 1,
   "metadata": {},
   "outputs": [
    {
     "name": "stdout",
     "output_type": "stream",
     "text": [
      "x =  50\n"
     ]
    }
   ],
   "source": [
    "for guess in range(250):\n",
    "    if 5 * guess == 250:\n",
    "        print(\"x = \", guess)\n",
    "        break"
   ]
  },
  {
   "cell_type": "markdown",
   "metadata": {},
   "source": [
    "#### Try random values, when there is no exact answer\n",
    "\n",
    "Let's change the problem slightly: `251 = 5 * x`. Now there is no exact integer answer (as long as `x` is an integer). We have to estimate an answer with as low an error as possible.\n",
    "\n",
    "When we were looking for the value which gets us the exact answer, we could end the search as soon as the correct value was found. This time, we are trying to minimize the error, therefore we have to remember the best error and the associated guess throughout the search.\n",
    "\n",
    "_Note_ : We are introducing the concept of error functions and keeping track of best guesses in a loop. Otherwise there are better (and slightly more complicated) ways of solving this."
   ]
  },
  {
   "cell_type": "code",
   "execution_count": 1,
   "metadata": {},
   "outputs": [
    {
     "data": {
      "text/plain": [
       "(50, 1)"
      ]
     },
     "execution_count": 1,
     "metadata": {},
     "output_type": "execute_result"
    }
   ],
   "source": [
    "best_error = None\n",
    "best_guess = None\n",
    "\n",
    "for guess in range(251):\n",
    "    result = 5 * guess\n",
    "    error  = abs(251 - result)\n",
    "    \n",
    "    if best_guess is None or error < best_error:\n",
    "      best_guess = guess\n",
    "      best_error = error\n",
    "\n",
    "best_guess, best_error"
   ]
  },
  {
   "cell_type": "markdown",
   "metadata": {},
   "source": [
    "**Add visulization code**"
   ]
  },
  {
   "cell_type": "code",
   "execution_count": 4,
   "metadata": {},
   "outputs": [
    {
     "data": {
      "text/plain": [
       "(50, 1)"
      ]
     },
     "execution_count": 4,
     "metadata": {},
     "output_type": "execute_result"
    }
   ],
   "source": [
    "best_error = None\n",
    "best_guess = None\n",
    "\n",
    "guesses_errors = list() # store errors and guesses to visualize\n",
    "\n",
    "for guess in range(251):\n",
    "    result = 5 * guess\n",
    "    error  = abs(251 - result)\n",
    "    \n",
    "    guesses_errors.append((guess, error)) # store errors and guesses to visualize\n",
    "    \n",
    "    if best_guess is None or error < best_error:\n",
    "      best_guess = guess\n",
    "      best_error = error\n",
    "\n",
    "best_guess, best_error"
   ]
  },
  {
   "cell_type": "code",
   "execution_count": 14,
   "metadata": {},
   "outputs": [],
   "source": [
    "guesses_errors_df = pd.DataFrame(guesses_errors, columns=[\"guess\", \"error\"])"
   ]
  },
  {
   "cell_type": "code",
   "execution_count": 15,
   "metadata": {},
   "outputs": [
    {
     "data": {
      "image/png": "[encoded data removed]",
      "text/plain": [
       "<Figure size 360x360 with 1 Axes>"
      ]
     },
     "metadata": {},
     "output_type": "display_data"
    }
   ],
   "source": [
    "#plt.scatter([x[0] for x in guesses_errors], [x[1] for x in guesses_errors])\n",
    "sns.relplot(x=\"guess\", y=\"error\", data=guesses_errors_df);\n"
   ]
  },
  {
   "cell_type": "markdown",
   "metadata": {},
   "source": [
    "**Separate concerns**\n",
    "\n",
    "Notice that the code for the equation `251 = 5 * x` is mixed in with the code which searches for the solution. Let's write it again and separate out the two concerns:"
   ]
  },
  {
   "cell_type": "code",
   "execution_count": 28,
   "metadata": {},
   "outputs": [],
   "source": [
    "def eqn(x): return 5 * x\n",
    "\n",
    "def guess(equation, target, guess_min, guess_max, return_intermediate_vals=False):\n",
    "    best_error = None\n",
    "    best_guess = None\n",
    "    \n",
    "    guesses_errors = list() # store errors and guesses to visualize\n",
    "\n",
    "    for g in range(guess_min, guess_max):\n",
    "        result = equation(g)\n",
    "        error  = abs(target - result)\n",
    "        \n",
    "        guesses_errors.append((g, error)) # store errors and guesses to visualize\n",
    "        \n",
    "        if best_guess is None or error < best_error:\n",
    "            best_guess = g\n",
    "            best_error = error\n",
    "    if return_intermediate_vals:\n",
    "        return best_guess, best_error, guesses_errors\n",
    "    else:\n",
    "        return best_guess, best_error, None"
   ]
  },
  {
   "cell_type": "code",
   "execution_count": 29,
   "metadata": {},
   "outputs": [
    {
     "data": {
      "text/plain": [
       "(50, 1, None)"
      ]
     },
     "execution_count": 29,
     "metadata": {},
     "output_type": "execute_result"
    }
   ],
   "source": [
    "guess(eqn, 251, 0, 251)"
   ]
  },
  {
   "cell_type": "code",
   "execution_count": 30,
   "metadata": {},
   "outputs": [
    {
     "data": {
      "text/plain": [
       "(50, 0, None)"
      ]
     },
     "execution_count": 30,
     "metadata": {},
     "output_type": "execute_result"
    }
   ],
   "source": [
    "guess(eqn, 250, 0, 251)"
   ]
  },
  {
   "cell_type": "code",
   "execution_count": 31,
   "metadata": {},
   "outputs": [
    {
     "data": {
      "text/plain": [
       "(10, 0, None)"
      ]
     },
     "execution_count": 31,
     "metadata": {},
     "output_type": "execute_result"
    }
   ],
   "source": [
    "guess(lambda x: x * 25, 250, 0, 251)"
   ]
  },
  {
   "cell_type": "markdown",
   "metadata": {},
   "source": [
    "Same result, but with a chart to show how we arrived at the guess"
   ]
  },
  {
   "cell_type": "code",
   "execution_count": 33,
   "metadata": {},
   "outputs": [
    {
     "name": "stdout",
     "output_type": "stream",
     "text": [
      "50 1\n"
     ]
    },
    {
     "data": {
      "image/png": "[encoded data removed]",
      "text/plain": [
       "<Figure size 360x360 with 1 Axes>"
      ]
     },
     "metadata": {},
     "output_type": "display_data"
    }
   ],
   "source": [
    "best_guess, best_error, guesses = guess(eqn, 251, 0, 251, return_intermediate_vals=True)\n",
    "\n",
    "print(best_guess, best_error)\n",
    "sns.relplot(x=\"guess\", y=\"error\", data=pd.DataFrame(guesses, columns=[\"guess\", \"error\"]));"
   ]
  },
  {
   "cell_type": "code",
   "execution_count": 34,
   "metadata": {},
   "outputs": [
    {
     "name": "stdout",
     "output_type": "stream",
     "text": [
      "50 0\n"
     ]
    },
    {
     "data": {
      "image/png": "[encoded data removed]",
      "text/plain": [
       "<Figure size 360x360 with 1 Axes>"
      ]
     },
     "metadata": {},
     "output_type": "display_data"
    }
   ],
   "source": [
    "best_guess, best_error, guesses = guess(eqn, 250, 0, 251, return_intermediate_vals=True)\n",
    "\n",
    "print(best_guess, best_error)\n",
    "sns.relplot(x=\"guess\", y=\"error\", data=pd.DataFrame(guesses, columns=[\"guess\", \"error\"]));"
   ]
  },
  {
   "cell_type": "code",
   "execution_count": 35,
   "metadata": {},
   "outputs": [
    {
     "name": "stdout",
     "output_type": "stream",
     "text": [
      "10 0\n"
     ]
    },
    {
     "data": {
      "image/png": "[encoded data removed]",
      "text/plain": [
       "<Figure size 360x360 with 1 Axes>"
      ]
     },
     "metadata": {},
     "output_type": "display_data"
    }
   ],
   "source": [
    "best_guess, best_error, guesses = guess(lambda x: x * 25, 250, 0, 251, return_intermediate_vals=True)\n",
    "\n",
    "print(best_guess, best_error)\n",
    "sns.relplot(x=\"guess\", y=\"error\", data=pd.DataFrame(guesses, columns=[\"guess\", \"error\"]));"
   ]
  },
  {
   "cell_type": "markdown",
   "metadata": {},
   "source": [
    "The basic idea is this: we will try random integers (within some range), we will remember the values which get us the best results and ignore the ones which get us results worse than what we already have.\n",
    "\n",
    "_Side note_ : Randomness is not such a good strategy for a problem like this, but we are using it here to illustrate a coding pattern.\n",
    "\n",
    "Very informal pseudo code:\n",
    "```ruby\n",
    "try a guess for x in equation 250 = 5 * x\n",
    "if guess is better than the preivously recorded guess, store this guess\n",
    "keep going until the error is small enough or the guessing game has run long enough\n",
    "```"
   ]
  },
  {
   "cell_type": "code",
   "execution_count": 1,
   "metadata": {},
   "outputs": [],
   "source": [
    "import random"
   ]
  },
  {
   "cell_type": "code",
   "execution_count": 9,
   "metadata": {},
   "outputs": [
    {
     "data": {
      "text/plain": [
       "(50, 1)"
      ]
     },
     "execution_count": 9,
     "metadata": {},
     "output_type": "execute_result"
    }
   ],
   "source": [
    "num_of_guesses = 1000\n",
    "min_guess = 0\n",
    "max_guess = 1000\n",
    "\n",
    "best_guess = None\n",
    "best_error = None\n",
    "\n",
    "for guess in [random.randint(min_guess, max_guess) for _ in range(num_of_guesses)]:\n",
    "  result = 5 * guess\n",
    "  error = abs(251 - result)\n",
    "\n",
    "  if best_guess is None or error < best_error:\n",
    "    best_guess = guess\n",
    "    best_error = error\n",
    "\n",
    "best_guess, best_error"
   ]
  },
  {
   "cell_type": "markdown",
   "metadata": {},
   "source": [
    "**Exercise** Do you understand what the expression `[random.randint(min_guess, max_guess) for _ in range(num_of_guesses)]` is doing? If not, please ask. How does the code change if we had to use loops instead of this list comprehension?\n",
    "\n",
    "**Exercise** Do you understand what the expression `best_guess is None or error < best_error:` is doing? If `best_guess` is None, is the remaining expression `error < best_error` still evaluated?\n",
    "\n",
    "**Exercise** Turn this into a function `random_search(num_of_guesses, min_guess, max_guess)`. This function should return a single number, our best guess for the expression `251 = 5 * x`."
   ]
  },
  {
   "cell_type": "code",
   "execution_count": null,
   "metadata": {},
   "outputs": [],
   "source": []
  }
 ],
 "metadata": {
  "kernelspec": {
   "display_name": "Python 3",
   "language": "python",
   "name": "python3"
  },
  "language_info": {
   "codemirror_mode": {
    "name": "ipython",
    "version": 3
   },
   "file_extension": ".py",
   "mimetype": "text/x-python",
   "name": "python",
   "nbconvert_exporter": "python",
   "pygments_lexer": "ipython3",
   "version": "3.7.3"
  }
 },
 "nbformat": 4,
 "nbformat_minor": 2
}
