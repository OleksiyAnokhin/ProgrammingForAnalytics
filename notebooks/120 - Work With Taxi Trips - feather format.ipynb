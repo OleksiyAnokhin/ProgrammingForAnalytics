{
 "cells": [
  {
   "cell_type": "markdown",
   "metadata": {},
   "source": [
    "# Chunking and feather format test"
   ]
  },
  {
   "cell_type": "markdown",
   "metadata": {},
   "source": [
    "### You may have to install pyarrow to access to_feather and read_feather functionality"
   ]
  },
  {
   "cell_type": "code",
   "execution_count": 1,
   "metadata": {},
   "outputs": [],
   "source": [
    "#!conda install --y pyarrow -c conda-forge"
   ]
  },
  {
   "cell_type": "code",
   "execution_count": 3,
   "metadata": {},
   "outputs": [],
   "source": [
    "import pandas as pd\n",
    "import pyarrow as pa\n",
    "from pyarrow import csv"
   ]
  },
  {
   "cell_type": "markdown",
   "metadata": {},
   "source": [
    "### Notice that read_feather is _MUCH_ faster than read_csv"
   ]
  },
  {
   "cell_type": "code",
   "execution_count": 3,
   "metadata": {},
   "outputs": [
    {
     "name": "stdout",
     "output_type": "stream",
     "text": [
      "CPU times: user 56.7 s, sys: 5.26 s, total: 1min 1s\n",
      "Wall time: 1min 1s\n"
     ]
    }
   ],
   "source": [
    "%time data_df = pd.read_csv(\"../datasets/taxi-trips/taxi_trips_small.csv\", low_memory=False)"
   ]
  },
  {
   "cell_type": "code",
   "execution_count": 4,
   "metadata": {},
   "outputs": [
    {
     "name": "stdout",
     "output_type": "stream",
     "text": [
      "CPU times: user 5.52 s, sys: 7.2 s, total: 12.7 s\n",
      "Wall time: 17 s\n"
     ]
    }
   ],
   "source": [
    "%time data_df.to_feather(\"../datasets/taxi-trips/taxi_trips_small.feather\")"
   ]
  },
  {
   "cell_type": "code",
   "execution_count": 4,
   "metadata": {},
   "outputs": [
    {
     "name": "stdout",
     "output_type": "stream",
     "text": [
      "CPU times: user 6.67 s, sys: 2.49 s, total: 9.16 s\n",
      "Wall time: 9.34 s\n"
     ]
    }
   ],
   "source": [
    "%time data_df = pd.read_feather(\"../datasets/taxi-trips/taxi_trips_small.feather\")"
   ]
  },
  {
   "cell_type": "markdown",
   "metadata": {},
   "source": [
    "### Reading the full dataset (14 gigs, _compressed_) is impossible"
   ]
  },
  {
   "cell_type": "code",
   "execution_count": 5,
   "metadata": {},
   "outputs": [
    {
     "data": {
      "text/html": [
       "<div>\n",
       "<style scoped>\n",
       "    .dataframe tbody tr th:only-of-type {\n",
       "        vertical-align: middle;\n",
       "    }\n",
       "\n",
       "    .dataframe tbody tr th {\n",
       "        vertical-align: top;\n",
       "    }\n",
       "\n",
       "    .dataframe thead th {\n",
       "        text-align: right;\n",
       "    }\n",
       "</style>\n",
       "<table border=\"1\" class=\"dataframe\">\n",
       "  <thead>\n",
       "    <tr style=\"text-align: right;\">\n",
       "      <th></th>\n",
       "      <th>Trip ID</th>\n",
       "      <th>Taxi ID</th>\n",
       "      <th>Trip Start Timestamp</th>\n",
       "      <th>Trip End Timestamp</th>\n",
       "      <th>Trip Seconds</th>\n",
       "      <th>Trip Miles</th>\n",
       "      <th>Pickup Census Tract</th>\n",
       "      <th>Dropoff Census Tract</th>\n",
       "      <th>Pickup Community Area</th>\n",
       "      <th>Dropoff Community Area</th>\n",
       "      <th>...</th>\n",
       "      <th>Trip Total</th>\n",
       "      <th>Payment Type</th>\n",
       "      <th>Company</th>\n",
       "      <th>Pickup Centroid Latitude</th>\n",
       "      <th>Pickup Centroid Longitude</th>\n",
       "      <th>Pickup Centroid Location</th>\n",
       "      <th>Dropoff Centroid Latitude</th>\n",
       "      <th>Dropoff Centroid Longitude</th>\n",
       "      <th>Dropoff Centroid  Location</th>\n",
       "      <th>Community Areas</th>\n",
       "    </tr>\n",
       "  </thead>\n",
       "  <tbody>\n",
       "    <tr>\n",
       "      <th>0</th>\n",
       "      <td>2847377eac0bee949bfa1ca27913ed0d3a1f1b81</td>\n",
       "      <td>afe9520e229118e6dbb1fa164a31175e2b95a5f1e968d1...</td>\n",
       "      <td>05/18/2019 03:45:00 PM</td>\n",
       "      <td>05/18/2019 04:00:00 PM</td>\n",
       "      <td>540.0</td>\n",
       "      <td>0.00</td>\n",
       "      <td>1.703132e+10</td>\n",
       "      <td>1.703108e+10</td>\n",
       "      <td>32.0</td>\n",
       "      <td>8.0</td>\n",
       "      <td>...</td>\n",
       "      <td>9.00</td>\n",
       "      <td>Cash</td>\n",
       "      <td>Taxi Affiliation Services</td>\n",
       "      <td>41.884987</td>\n",
       "      <td>-87.620993</td>\n",
       "      <td>POINT (-87.6209929134 41.8849871918)</td>\n",
       "      <td>41.890922</td>\n",
       "      <td>-87.618868</td>\n",
       "      <td>POINT (-87.6188683546 41.8909220259)</td>\n",
       "      <td>38.0</td>\n",
       "    </tr>\n",
       "    <tr>\n",
       "      <th>1</th>\n",
       "      <td>284c50ba7f586099fb533bf0d7f1536c6d7108ac</td>\n",
       "      <td>145704ff91badf2808dafedfa719dddb09643f1563f8f6...</td>\n",
       "      <td>05/02/2019 06:45:00 PM</td>\n",
       "      <td>05/02/2019 06:45:00 PM</td>\n",
       "      <td>480.0</td>\n",
       "      <td>1.00</td>\n",
       "      <td>1.703128e+10</td>\n",
       "      <td>1.703132e+10</td>\n",
       "      <td>28.0</td>\n",
       "      <td>32.0</td>\n",
       "      <td>...</td>\n",
       "      <td>6.75</td>\n",
       "      <td>Cash</td>\n",
       "      <td>Star North Management LLC</td>\n",
       "      <td>41.879255</td>\n",
       "      <td>-87.642649</td>\n",
       "      <td>POINT (-87.642648998 41.8792550844)</td>\n",
       "      <td>41.877406</td>\n",
       "      <td>-87.621972</td>\n",
       "      <td>POINT (-87.6219716519 41.8774061234)</td>\n",
       "      <td>29.0</td>\n",
       "    </tr>\n",
       "    <tr>\n",
       "      <th>2</th>\n",
       "      <td>2847e0e16c5fdea8289eb406c12f697fbbde1ae3</td>\n",
       "      <td>25026b4fed9610802a9737c038f487a76836346a67274e...</td>\n",
       "      <td>05/15/2019 12:00:00 PM</td>\n",
       "      <td>05/15/2019 12:30:00 PM</td>\n",
       "      <td>1109.0</td>\n",
       "      <td>4.92</td>\n",
       "      <td>1.703103e+10</td>\n",
       "      <td>1.703107e+10</td>\n",
       "      <td>3.0</td>\n",
       "      <td>7.0</td>\n",
       "      <td>...</td>\n",
       "      <td>16.25</td>\n",
       "      <td>Cash</td>\n",
       "      <td>Flash Cab</td>\n",
       "      <td>41.972929</td>\n",
       "      <td>-87.650290</td>\n",
       "      <td>POINT (-87.6502900743 41.9729293173)</td>\n",
       "      <td>41.921855</td>\n",
       "      <td>-87.646211</td>\n",
       "      <td>POINT (-87.6462109769 41.9218549112)</td>\n",
       "      <td>31.0</td>\n",
       "    </tr>\n",
       "    <tr>\n",
       "      <th>3</th>\n",
       "      <td>2841a569d782efb2fad24530c7d4b75bb92353e9</td>\n",
       "      <td>c2d62be9d1a860b6333263d36820eabeaf42f289e77363...</td>\n",
       "      <td>05/28/2019 03:45:00 PM</td>\n",
       "      <td>05/28/2019 04:00:00 PM</td>\n",
       "      <td>360.0</td>\n",
       "      <td>0.00</td>\n",
       "      <td>1.703108e+10</td>\n",
       "      <td>1.703184e+10</td>\n",
       "      <td>8.0</td>\n",
       "      <td>32.0</td>\n",
       "      <td>...</td>\n",
       "      <td>8.50</td>\n",
       "      <td>Credit Card</td>\n",
       "      <td>Taxi Affiliation Services</td>\n",
       "      <td>41.890922</td>\n",
       "      <td>-87.618868</td>\n",
       "      <td>POINT (-87.6188683546 41.8909220259)</td>\n",
       "      <td>41.880994</td>\n",
       "      <td>-87.632746</td>\n",
       "      <td>POINT (-87.6327464887 41.8809944707)</td>\n",
       "      <td>37.0</td>\n",
       "    </tr>\n",
       "    <tr>\n",
       "      <th>4</th>\n",
       "      <td>2853357a21ffb020fe5ada742afe7daee823f85e</td>\n",
       "      <td>e64ae81fa38a2e8716a35dfa4e316dddd2eda286f5824e...</td>\n",
       "      <td>05/20/2019 12:15:00 PM</td>\n",
       "      <td>05/20/2019 12:30:00 PM</td>\n",
       "      <td>755.0</td>\n",
       "      <td>5.19</td>\n",
       "      <td>NaN</td>\n",
       "      <td>NaN</td>\n",
       "      <td>8.0</td>\n",
       "      <td>6.0</td>\n",
       "      <td>...</td>\n",
       "      <td>15.50</td>\n",
       "      <td>Cash</td>\n",
       "      <td>Sun Taxi</td>\n",
       "      <td>41.899602</td>\n",
       "      <td>-87.633308</td>\n",
       "      <td>POINT (-87.6333080367 41.899602111)</td>\n",
       "      <td>41.944227</td>\n",
       "      <td>-87.655998</td>\n",
       "      <td>POINT (-87.6559981815 41.9442266014)</td>\n",
       "      <td>37.0</td>\n",
       "    </tr>\n",
       "  </tbody>\n",
       "</table>\n",
       "<p>5 rows × 24 columns</p>\n",
       "</div>"
      ],
      "text/plain": [
       "                                    Trip ID  \\\n",
       "0  2847377eac0bee949bfa1ca27913ed0d3a1f1b81   \n",
       "1  284c50ba7f586099fb533bf0d7f1536c6d7108ac   \n",
       "2  2847e0e16c5fdea8289eb406c12f697fbbde1ae3   \n",
       "3  2841a569d782efb2fad24530c7d4b75bb92353e9   \n",
       "4  2853357a21ffb020fe5ada742afe7daee823f85e   \n",
       "\n",
       "                                             Taxi ID    Trip Start Timestamp  \\\n",
       "0  afe9520e229118e6dbb1fa164a31175e2b95a5f1e968d1...  05/18/2019 03:45:00 PM   \n",
       "1  145704ff91badf2808dafedfa719dddb09643f1563f8f6...  05/02/2019 06:45:00 PM   \n",
       "2  25026b4fed9610802a9737c038f487a76836346a67274e...  05/15/2019 12:00:00 PM   \n",
       "3  c2d62be9d1a860b6333263d36820eabeaf42f289e77363...  05/28/2019 03:45:00 PM   \n",
       "4  e64ae81fa38a2e8716a35dfa4e316dddd2eda286f5824e...  05/20/2019 12:15:00 PM   \n",
       "\n",
       "       Trip End Timestamp  Trip Seconds  Trip Miles  Pickup Census Tract  \\\n",
       "0  05/18/2019 04:00:00 PM         540.0        0.00         1.703132e+10   \n",
       "1  05/02/2019 06:45:00 PM         480.0        1.00         1.703128e+10   \n",
       "2  05/15/2019 12:30:00 PM        1109.0        4.92         1.703103e+10   \n",
       "3  05/28/2019 04:00:00 PM         360.0        0.00         1.703108e+10   \n",
       "4  05/20/2019 12:30:00 PM         755.0        5.19                  NaN   \n",
       "\n",
       "   Dropoff Census Tract  Pickup Community Area  Dropoff Community Area  ...  \\\n",
       "0          1.703108e+10                   32.0                     8.0  ...   \n",
       "1          1.703132e+10                   28.0                    32.0  ...   \n",
       "2          1.703107e+10                    3.0                     7.0  ...   \n",
       "3          1.703184e+10                    8.0                    32.0  ...   \n",
       "4                   NaN                    8.0                     6.0  ...   \n",
       "\n",
       "   Trip Total  Payment Type                    Company  \\\n",
       "0        9.00          Cash  Taxi Affiliation Services   \n",
       "1        6.75          Cash  Star North Management LLC   \n",
       "2       16.25          Cash                  Flash Cab   \n",
       "3        8.50   Credit Card  Taxi Affiliation Services   \n",
       "4       15.50          Cash                   Sun Taxi   \n",
       "\n",
       "   Pickup Centroid Latitude  Pickup Centroid Longitude  \\\n",
       "0                 41.884987                 -87.620993   \n",
       "1                 41.879255                 -87.642649   \n",
       "2                 41.972929                 -87.650290   \n",
       "3                 41.890922                 -87.618868   \n",
       "4                 41.899602                 -87.633308   \n",
       "\n",
       "               Pickup Centroid Location Dropoff Centroid Latitude  \\\n",
       "0  POINT (-87.6209929134 41.8849871918)                 41.890922   \n",
       "1   POINT (-87.642648998 41.8792550844)                 41.877406   \n",
       "2  POINT (-87.6502900743 41.9729293173)                 41.921855   \n",
       "3  POINT (-87.6188683546 41.8909220259)                 41.880994   \n",
       "4   POINT (-87.6333080367 41.899602111)                 41.944227   \n",
       "\n",
       "   Dropoff Centroid Longitude            Dropoff Centroid  Location  \\\n",
       "0                  -87.618868  POINT (-87.6188683546 41.8909220259)   \n",
       "1                  -87.621972  POINT (-87.6219716519 41.8774061234)   \n",
       "2                  -87.646211  POINT (-87.6462109769 41.9218549112)   \n",
       "3                  -87.632746  POINT (-87.6327464887 41.8809944707)   \n",
       "4                  -87.655998  POINT (-87.6559981815 41.9442266014)   \n",
       "\n",
       "  Community Areas  \n",
       "0            38.0  \n",
       "1            29.0  \n",
       "2            31.0  \n",
       "3            37.0  \n",
       "4            37.0  \n",
       "\n",
       "[5 rows x 24 columns]"
      ]
     },
     "execution_count": 5,
     "metadata": {},
     "output_type": "execute_result"
    }
   ],
   "source": [
    "data_df.head()"
   ]
  },
  {
   "cell_type": "code",
   "execution_count": null,
   "metadata": {},
   "outputs": [],
   "source": []
  }
 ],
 "metadata": {
  "kernelspec": {
   "display_name": "Python 3",
   "language": "python",
   "name": "python3"
  },
  "language_info": {
   "codemirror_mode": {
    "name": "ipython",
    "version": 3
   },
   "file_extension": ".py",
   "mimetype": "text/x-python",
   "name": "python",
   "nbconvert_exporter": "python",
   "pygments_lexer": "ipython3",
   "version": "3.7.3"
  }
 },
 "nbformat": 4,
 "nbformat_minor": 2
}
